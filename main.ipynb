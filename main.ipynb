{
  "cells": [
    {
      "cell_type": "code",
      "execution_count": 1,
      "id": "a44c1bf9",
      "metadata": {
        "_cell_guid": "b1076dfc-b9ad-4769-8c92-a6c4dae69d19",
        "_uuid": "8f2839f25d086af736a60e9eeb907d3b93b6e0e5",
        "execution": {
          "iopub.execute_input": "2023-09-23T20:35:08.732971Z",
          "iopub.status.busy": "2023-09-23T20:35:08.732498Z",
          "iopub.status.idle": "2023-09-23T20:35:10.004624Z",
          "shell.execute_reply": "2023-09-23T20:35:10.003258Z"
        },
        "id": "a44c1bf9",
        "papermill": {
          "duration": 1.294551,
          "end_time": "2023-09-23T20:35:10.007080",
          "exception": false,
          "start_time": "2023-09-23T20:35:08.712529",
          "status": "completed"
        },
        "tags": []
      },
      "outputs": [],
      "source": [
        "import numpy as np\n",
        "import pandas as pd"
      ]
    },
    {
      "cell_type": "markdown",
      "id": "15fb28d9",
      "metadata": {
        "id": "15fb28d9",
        "papermill": {
          "duration": 0.01765,
          "end_time": "2023-09-23T20:35:10.042762",
          "exception": false,
          "start_time": "2023-09-23T20:35:10.025112",
          "status": "completed"
        },
        "tags": []
      },
      "source": [
        "# Reading the dataset"
      ]
    },
    {
      "cell_type": "code",
      "execution_count": 2,
      "id": "0f5211c9",
      "metadata": {
        "colab": {
          "base_uri": "https://localhost:8080/",
          "height": 206
        },
        "execution": {
          "iopub.execute_input": "2023-09-23T20:35:10.079973Z",
          "iopub.status.busy": "2023-09-23T20:35:10.078920Z",
          "iopub.status.idle": "2023-09-23T20:35:13.191726Z",
          "shell.execute_reply": "2023-09-23T20:35:13.190757Z"
        },
        "id": "0f5211c9",
        "outputId": "66e3ed24-cc76-4c44-a442-7a8317faa3ee",
        "papermill": {
          "duration": 3.133808,
          "end_time": "2023-09-23T20:35:13.194178",
          "exception": false,
          "start_time": "2023-09-23T20:35:10.060370",
          "status": "completed"
        },
        "tags": []
      },
      "outputs": [
        {
          "data": {
            "text/html": [
              "<div>\n",
              "<style scoped>\n",
              "    .dataframe tbody tr th:only-of-type {\n",
              "        vertical-align: middle;\n",
              "    }\n",
              "\n",
              "    .dataframe tbody tr th {\n",
              "        vertical-align: top;\n",
              "    }\n",
              "\n",
              "    .dataframe thead th {\n",
              "        text-align: right;\n",
              "    }\n",
              "</style>\n",
              "<table border=\"1\" class=\"dataframe\">\n",
              "  <thead>\n",
              "    <tr style=\"text-align: right;\">\n",
              "      <th></th>\n",
              "      <th>avg_ipt</th>\n",
              "      <th>bytes_in</th>\n",
              "      <th>bytes_out</th>\n",
              "      <th>dest_ip</th>\n",
              "      <th>dest_port</th>\n",
              "      <th>entropy</th>\n",
              "      <th>num_pkts_out</th>\n",
              "      <th>num_pkts_in</th>\n",
              "      <th>proto</th>\n",
              "      <th>src_ip</th>\n",
              "      <th>src_port</th>\n",
              "      <th>time_end</th>\n",
              "      <th>time_start</th>\n",
              "      <th>total_entropy</th>\n",
              "      <th>label</th>\n",
              "      <th>duration</th>\n",
              "    </tr>\n",
              "  </thead>\n",
              "  <tbody>\n",
              "    <tr>\n",
              "      <th>0</th>\n",
              "      <td>0.0</td>\n",
              "      <td>0</td>\n",
              "      <td>0</td>\n",
              "      <td>786</td>\n",
              "      <td>31306.0</td>\n",
              "      <td>0.0</td>\n",
              "      <td>1</td>\n",
              "      <td>0</td>\n",
              "      <td>6</td>\n",
              "      <td>786</td>\n",
              "      <td>47613.0</td>\n",
              "      <td>1655074782132491</td>\n",
              "      <td>1655074782132491</td>\n",
              "      <td>0.0</td>\n",
              "      <td>outlier</td>\n",
              "      <td>0.0</td>\n",
              "    </tr>\n",
              "    <tr>\n",
              "      <th>1</th>\n",
              "      <td>0.0</td>\n",
              "      <td>0</td>\n",
              "      <td>0</td>\n",
              "      <td>786</td>\n",
              "      <td>24298.0</td>\n",
              "      <td>0.0</td>\n",
              "      <td>1</td>\n",
              "      <td>0</td>\n",
              "      <td>6</td>\n",
              "      <td>786</td>\n",
              "      <td>47613.0</td>\n",
              "      <td>1655074782573321</td>\n",
              "      <td>1655074782573321</td>\n",
              "      <td>0.0</td>\n",
              "      <td>outlier</td>\n",
              "      <td>0.0</td>\n",
              "    </tr>\n",
              "    <tr>\n",
              "      <th>2</th>\n",
              "      <td>0.0</td>\n",
              "      <td>0</td>\n",
              "      <td>0</td>\n",
              "      <td>786</td>\n",
              "      <td>31789.0</td>\n",
              "      <td>0.0</td>\n",
              "      <td>1</td>\n",
              "      <td>0</td>\n",
              "      <td>6</td>\n",
              "      <td>786</td>\n",
              "      <td>47613.0</td>\n",
              "      <td>1655074783148517</td>\n",
              "      <td>1655074783148517</td>\n",
              "      <td>0.0</td>\n",
              "      <td>outlier</td>\n",
              "      <td>0.0</td>\n",
              "    </tr>\n",
              "    <tr>\n",
              "      <th>3</th>\n",
              "      <td>0.0</td>\n",
              "      <td>0</td>\n",
              "      <td>0</td>\n",
              "      <td>786</td>\n",
              "      <td>29409.0</td>\n",
              "      <td>0.0</td>\n",
              "      <td>1</td>\n",
              "      <td>0</td>\n",
              "      <td>6</td>\n",
              "      <td>786</td>\n",
              "      <td>47613.0</td>\n",
              "      <td>1655074783149855</td>\n",
              "      <td>1655074783149855</td>\n",
              "      <td>0.0</td>\n",
              "      <td>outlier</td>\n",
              "      <td>0.0</td>\n",
              "    </tr>\n",
              "    <tr>\n",
              "      <th>4</th>\n",
              "      <td>0.0</td>\n",
              "      <td>0</td>\n",
              "      <td>0</td>\n",
              "      <td>786</td>\n",
              "      <td>60965.0</td>\n",
              "      <td>0.0</td>\n",
              "      <td>1</td>\n",
              "      <td>0</td>\n",
              "      <td>6</td>\n",
              "      <td>786</td>\n",
              "      <td>47613.0</td>\n",
              "      <td>1655074783167254</td>\n",
              "      <td>1655074783167254</td>\n",
              "      <td>0.0</td>\n",
              "      <td>outlier</td>\n",
              "      <td>0.0</td>\n",
              "    </tr>\n",
              "  </tbody>\n",
              "</table>\n",
              "</div>"
            ],
            "text/plain": [
              "   avg_ipt  bytes_in  bytes_out  dest_ip  dest_port  entropy  num_pkts_out  \\\n",
              "0      0.0         0          0      786    31306.0      0.0             1   \n",
              "1      0.0         0          0      786    24298.0      0.0             1   \n",
              "2      0.0         0          0      786    31789.0      0.0             1   \n",
              "3      0.0         0          0      786    29409.0      0.0             1   \n",
              "4      0.0         0          0      786    60965.0      0.0             1   \n",
              "\n",
              "   num_pkts_in  proto  src_ip  src_port          time_end        time_start  \\\n",
              "0            0      6     786   47613.0  1655074782132491  1655074782132491   \n",
              "1            0      6     786   47613.0  1655074782573321  1655074782573321   \n",
              "2            0      6     786   47613.0  1655074783148517  1655074783148517   \n",
              "3            0      6     786   47613.0  1655074783149855  1655074783149855   \n",
              "4            0      6     786   47613.0  1655074783167254  1655074783167254   \n",
              "\n",
              "   total_entropy    label  duration  \n",
              "0            0.0  outlier       0.0  \n",
              "1            0.0  outlier       0.0  \n",
              "2            0.0  outlier       0.0  \n",
              "3            0.0  outlier       0.0  \n",
              "4            0.0  outlier       0.0  "
            ]
          },
          "execution_count": 2,
          "metadata": {},
          "output_type": "execute_result"
        }
      ],
      "source": [
        "df1 = pd.read_csv('2022.06.12.csv')\n",
        "df2 = pd.read_csv('2022.06.13.csv')\n",
        "df3 = pd.read_csv('2022.06.14.csv')\n",
        "df_dataset = pd.concat([df1, df2, df3])\n",
        "df_dataset.reset_index(drop=True, inplace=True)\n",
        "df_dataset.head()"
      ]
    },
    {
      "cell_type": "markdown",
      "id": "780a93b5",
      "metadata": {
        "id": "780a93b5",
        "papermill": {
          "duration": 0.016977,
          "end_time": "2023-09-23T20:35:13.228781",
          "exception": false,
          "start_time": "2023-09-23T20:35:13.211804",
          "status": "completed"
        },
        "tags": []
      },
      "source": [
        "# Merging into 1 dataframe"
      ]
    },
    {
      "cell_type": "code",
      "execution_count": 3,
      "id": "a0ad52f0",
      "metadata": {
        "colab": {
          "base_uri": "https://localhost:8080/"
        },
        "execution": {
          "iopub.execute_input": "2023-09-23T20:35:13.266407Z",
          "iopub.status.busy": "2023-09-23T20:35:13.265324Z",
          "iopub.status.idle": "2023-09-23T20:35:13.337023Z",
          "shell.execute_reply": "2023-09-23T20:35:13.335883Z"
        },
        "id": "a0ad52f0",
        "outputId": "16c89a69-76ea-4efd-be59-1db5b2228445",
        "papermill": {
          "duration": 0.094688,
          "end_time": "2023-09-23T20:35:13.340097",
          "exception": false,
          "start_time": "2023-09-23T20:35:13.245409",
          "status": "completed"
        },
        "tags": []
      },
      "outputs": [
        {
          "data": {
            "text/plain": [
              "16"
            ]
          },
          "execution_count": 3,
          "metadata": {},
          "output_type": "execute_result"
        }
      ],
      "source": [
        "df_dataset = pd.concat([df1, df2, df3])\n",
        "df_dataset.reset_index(drop=True, inplace=True)\n",
        "len(df_dataset.columns)"
      ]
    },
    {
      "cell_type": "markdown",
      "id": "8e04efe0",
      "metadata": {
        "id": "8e04efe0",
        "papermill": {
          "duration": 0.017531,
          "end_time": "2023-09-23T20:35:13.375540",
          "exception": false,
          "start_time": "2023-09-23T20:35:13.358009",
          "status": "completed"
        },
        "tags": []
      },
      "source": [
        "# Displaying the data"
      ]
    },
    {
      "cell_type": "code",
      "execution_count": null,
      "id": "cfaf996e",
      "metadata": {},
      "outputs": [],
      "source": [
        "import seaborn as sns"
      ]
    },
    {
      "cell_type": "code",
      "execution_count": null,
      "id": "1cb3b6ea",
      "metadata": {},
      "outputs": [],
      "source": []
    },
    {
      "cell_type": "code",
      "execution_count": 4,
      "id": "9da94b5b",
      "metadata": {
        "colab": {
          "base_uri": "https://localhost:8080/"
        },
        "execution": {
          "iopub.execute_input": "2023-09-23T20:35:13.412102Z",
          "iopub.status.busy": "2023-09-23T20:35:13.411749Z",
          "iopub.status.idle": "2023-09-23T20:35:13.767349Z",
          "shell.execute_reply": "2023-09-23T20:35:13.765571Z"
        },
        "id": "9da94b5b",
        "outputId": "6f871011-8473-41ab-95a2-9bf05854985c",
        "papermill": {
          "duration": 0.376873,
          "end_time": "2023-09-23T20:35:13.769861",
          "exception": false,
          "start_time": "2023-09-23T20:35:13.392988",
          "status": "completed"
        },
        "tags": []
      },
      "outputs": [
        {
          "name": "stdout",
          "output_type": "stream",
          "text": [
            "<class 'pandas.core.frame.DataFrame'>\n",
            "RangeIndex: 1068376 entries, 0 to 1068375\n",
            "Data columns (total 16 columns):\n",
            " #   Column         Non-Null Count    Dtype  \n",
            "---  ------         --------------    -----  \n",
            " 0   avg_ipt        1068376 non-null  float64\n",
            " 1   bytes_in       1068376 non-null  int64  \n",
            " 2   bytes_out      1068376 non-null  int64  \n",
            " 3   dest_ip        1068376 non-null  int64  \n",
            " 4   dest_port      964168 non-null   float64\n",
            " 5   entropy        1068376 non-null  float64\n",
            " 6   num_pkts_out   1068376 non-null  int64  \n",
            " 7   num_pkts_in    1068376 non-null  int64  \n",
            " 8   proto          1068376 non-null  int64  \n",
            " 9   src_ip         1068376 non-null  int64  \n",
            " 10  src_port       964168 non-null   float64\n",
            " 11  time_end       1068376 non-null  int64  \n",
            " 12  time_start     1068376 non-null  int64  \n",
            " 13  total_entropy  1068376 non-null  float64\n",
            " 14  label          1068376 non-null  object \n",
            " 15  duration       1068376 non-null  float64\n",
            "dtypes: float64(6), int64(9), object(1)\n",
            "memory usage: 130.4+ MB\n"
          ]
        }
      ],
      "source": [
        "df_dataset.info()"
      ]
    },
    {
      "cell_type": "code",
      "execution_count": 5,
      "id": "957152fe",
      "metadata": {
        "execution": {
          "iopub.execute_input": "2023-09-23T20:35:13.809684Z",
          "iopub.status.busy": "2023-09-23T20:35:13.808630Z",
          "iopub.status.idle": "2023-09-23T20:35:13.893592Z",
          "shell.execute_reply": "2023-09-23T20:35:13.889610Z"
        },
        "id": "957152fe",
        "papermill": {
          "duration": 0.111596,
          "end_time": "2023-09-23T20:35:13.899873",
          "exception": false,
          "start_time": "2023-09-23T20:35:13.788277",
          "status": "completed"
        },
        "tags": []
      },
      "outputs": [],
      "source": [
        "df_dataset = df_dataset.drop(['num_pkts_out', 'num_pkts_in'], axis=1)"
      ]
    },
    {
      "cell_type": "code",
      "execution_count": 6,
      "id": "af7ef485",
      "metadata": {
        "colab": {
          "base_uri": "https://localhost:8080/"
        },
        "execution": {
          "iopub.execute_input": "2023-09-23T20:35:13.980260Z",
          "iopub.status.busy": "2023-09-23T20:35:13.979892Z",
          "iopub.status.idle": "2023-09-23T20:35:13.986970Z",
          "shell.execute_reply": "2023-09-23T20:35:13.986003Z"
        },
        "id": "af7ef485",
        "outputId": "d7ffb2f5-ad4d-4320-86de-2a13bd40f7f7",
        "papermill": {
          "duration": 0.054009,
          "end_time": "2023-09-23T20:35:13.990045",
          "exception": false,
          "start_time": "2023-09-23T20:35:13.936036",
          "status": "completed"
        },
        "tags": []
      },
      "outputs": [
        {
          "data": {
            "text/plain": [
              "Index(['avg_ipt', 'bytes_in', 'bytes_out', 'dest_ip', 'dest_port', 'entropy',\n",
              "       'proto', 'src_ip', 'src_port', 'time_end', 'time_start',\n",
              "       'total_entropy', 'label', 'duration'],\n",
              "      dtype='object')"
            ]
          },
          "execution_count": 6,
          "metadata": {},
          "output_type": "execute_result"
        }
      ],
      "source": [
        "df_dataset.columns"
      ]
    },
    {
      "cell_type": "markdown",
      "id": "91d6dae5",
      "metadata": {
        "id": "91d6dae5",
        "papermill": {
          "duration": 0.017288,
          "end_time": "2023-09-23T20:35:14.025460",
          "exception": false,
          "start_time": "2023-09-23T20:35:14.008172",
          "status": "completed"
        },
        "tags": []
      },
      "source": [
        "# Taking care of missing data, Removing duplicates"
      ]
    },
    {
      "cell_type": "code",
      "execution_count": 7,
      "id": "6c3110a6",
      "metadata": {
        "execution": {
          "iopub.execute_input": "2023-09-23T20:35:14.062419Z",
          "iopub.status.busy": "2023-09-23T20:35:14.061428Z",
          "iopub.status.idle": "2023-09-23T20:35:14.585967Z",
          "shell.execute_reply": "2023-09-23T20:35:14.584959Z"
        },
        "id": "6c3110a6",
        "papermill": {
          "duration": 0.545677,
          "end_time": "2023-09-23T20:35:14.588590",
          "exception": false,
          "start_time": "2023-09-23T20:35:14.042913",
          "status": "completed"
        },
        "tags": []
      },
      "outputs": [],
      "source": [
        "# replace +ve and -ve infinity with NaN\n",
        "df_dataset.replace([np.inf, -np.inf], np.nan, inplace=True)"
      ]
    },
    {
      "cell_type": "code",
      "execution_count": 8,
      "id": "a39ee599",
      "metadata": {
        "execution": {
          "iopub.execute_input": "2023-09-23T20:35:14.626224Z",
          "iopub.status.busy": "2023-09-23T20:35:14.625869Z",
          "iopub.status.idle": "2023-09-23T20:35:15.000987Z",
          "shell.execute_reply": "2023-09-23T20:35:14.999996Z"
        },
        "id": "a39ee599",
        "papermill": {
          "duration": 0.396291,
          "end_time": "2023-09-23T20:35:15.003519",
          "exception": false,
          "start_time": "2023-09-23T20:35:14.607228",
          "status": "completed"
        },
        "tags": []
      },
      "outputs": [],
      "source": [
        "# drop missing values\n",
        "df_dataset.dropna(inplace=True)"
      ]
    },
    {
      "cell_type": "code",
      "execution_count": 9,
      "id": "bb8ac00f",
      "metadata": {
        "colab": {
          "base_uri": "https://localhost:8080/"
        },
        "execution": {
          "iopub.execute_input": "2023-09-23T20:35:15.040215Z",
          "iopub.status.busy": "2023-09-23T20:35:15.039854Z",
          "iopub.status.idle": "2023-09-23T20:35:15.773581Z",
          "shell.execute_reply": "2023-09-23T20:35:15.771387Z"
        },
        "id": "bb8ac00f",
        "outputId": "1f5b7b4f-e936-46e6-976d-565944881cfa",
        "papermill": {
          "duration": 0.756696,
          "end_time": "2023-09-23T20:35:15.777816",
          "exception": false,
          "start_time": "2023-09-23T20:35:15.021120",
          "status": "completed"
        },
        "tags": []
      },
      "outputs": [
        {
          "name": "stdout",
          "output_type": "stream",
          "text": [
            "4447\n"
          ]
        }
      ],
      "source": [
        "print(df_dataset.duplicated().sum())"
      ]
    },
    {
      "cell_type": "code",
      "execution_count": 10,
      "id": "d34c6d7e",
      "metadata": {
        "execution": {
          "iopub.execute_input": "2023-09-23T20:35:15.818541Z",
          "iopub.status.busy": "2023-09-23T20:35:15.818117Z",
          "iopub.status.idle": "2023-09-23T20:35:16.610941Z",
          "shell.execute_reply": "2023-09-23T20:35:16.609923Z"
        },
        "id": "d34c6d7e",
        "papermill": {
          "duration": 0.816756,
          "end_time": "2023-09-23T20:35:16.613939",
          "exception": false,
          "start_time": "2023-09-23T20:35:15.797183",
          "status": "completed"
        },
        "tags": []
      },
      "outputs": [],
      "source": [
        "df_dataset.drop_duplicates(inplace = True)"
      ]
    },
    {
      "cell_type": "code",
      "execution_count": 11,
      "id": "e5201b74",
      "metadata": {
        "colab": {
          "base_uri": "https://localhost:8080/"
        },
        "execution": {
          "iopub.execute_input": "2023-09-23T20:35:16.653272Z",
          "iopub.status.busy": "2023-09-23T20:35:16.652888Z",
          "iopub.status.idle": "2023-09-23T20:35:17.407569Z",
          "shell.execute_reply": "2023-09-23T20:35:17.406294Z"
        },
        "id": "e5201b74",
        "outputId": "5fd8e8e2-2e15-496b-deff-f1dce0fa36bc",
        "papermill": {
          "duration": 0.777648,
          "end_time": "2023-09-23T20:35:17.410421",
          "exception": false,
          "start_time": "2023-09-23T20:35:16.632773",
          "status": "completed"
        },
        "tags": []
      },
      "outputs": [
        {
          "name": "stdout",
          "output_type": "stream",
          "text": [
            "0\n"
          ]
        }
      ],
      "source": [
        "print(df_dataset.duplicated().sum())"
      ]
    },
    {
      "cell_type": "markdown",
      "id": "0ef7d942",
      "metadata": {
        "id": "0ef7d942",
        "papermill": {
          "duration": 0.017587,
          "end_time": "2023-09-23T20:35:17.446943",
          "exception": false,
          "start_time": "2023-09-23T20:35:17.429356",
          "status": "completed"
        },
        "tags": []
      },
      "source": [
        "# Implementing binary classification"
      ]
    },
    {
      "cell_type": "code",
      "execution_count": 12,
      "id": "de0d321f",
      "metadata": {
        "colab": {
          "base_uri": "https://localhost:8080/"
        },
        "execution": {
          "iopub.execute_input": "2023-09-23T20:35:17.483907Z",
          "iopub.status.busy": "2023-09-23T20:35:17.483556Z",
          "iopub.status.idle": "2023-09-23T20:35:17.637012Z",
          "shell.execute_reply": "2023-09-23T20:35:17.636012Z"
        },
        "id": "de0d321f",
        "outputId": "746a63ba-634b-45bb-cb13-54bd5262ed79",
        "papermill": {
          "duration": 0.174255,
          "end_time": "2023-09-23T20:35:17.639133",
          "exception": false,
          "start_time": "2023-09-23T20:35:17.464878",
          "status": "completed"
        },
        "tags": []
      },
      "outputs": [
        {
          "data": {
            "text/plain": [
              "label\n",
              "benign       516220\n",
              "outlier      365385\n",
              "malicious     78116\n",
              "Name: count, dtype: int64"
            ]
          },
          "execution_count": 12,
          "metadata": {},
          "output_type": "execute_result"
        }
      ],
      "source": [
        "df_dataset[\"label\"].value_counts()"
      ]
    },
    {
      "cell_type": "code",
      "execution_count": 13,
      "id": "ef49d344",
      "metadata": {
        "execution": {
          "iopub.execute_input": "2023-09-23T20:35:17.680338Z",
          "iopub.status.busy": "2023-09-23T20:35:17.678382Z",
          "iopub.status.idle": "2023-09-23T20:35:17.747070Z",
          "shell.execute_reply": "2023-09-23T20:35:17.745941Z"
        },
        "id": "ef49d344",
        "papermill": {
          "duration": 0.091497,
          "end_time": "2023-09-23T20:35:17.749846",
          "exception": false,
          "start_time": "2023-09-23T20:35:17.658349",
          "status": "completed"
        },
        "tags": []
      },
      "outputs": [],
      "source": [
        "old_value = 'outlier'\n",
        "new_value = 0\n",
        "df_dataset['label'] = df_dataset['label'].replace(old_value, new_value)"
      ]
    },
    {
      "cell_type": "code",
      "execution_count": 14,
      "id": "1079e9c7",
      "metadata": {
        "execution": {
          "iopub.execute_input": "2023-09-23T20:35:17.790970Z",
          "iopub.status.busy": "2023-09-23T20:35:17.790278Z",
          "iopub.status.idle": "2023-09-23T20:35:17.852927Z",
          "shell.execute_reply": "2023-09-23T20:35:17.851882Z"
        },
        "id": "1079e9c7",
        "papermill": {
          "duration": 0.087183,
          "end_time": "2023-09-23T20:35:17.855579",
          "exception": false,
          "start_time": "2023-09-23T20:35:17.768396",
          "status": "completed"
        },
        "tags": []
      },
      "outputs": [],
      "source": [
        "old_value = 'malicious'\n",
        "new_value = 1\n",
        "df_dataset['label'] = df_dataset['label'].replace(old_value, new_value)"
      ]
    },
    {
      "cell_type": "code",
      "execution_count": 15,
      "id": "930a5569",
      "metadata": {
        "execution": {
          "iopub.execute_input": "2023-09-23T20:35:17.894547Z",
          "iopub.status.busy": "2023-09-23T20:35:17.893424Z",
          "iopub.status.idle": "2023-09-23T20:35:18.373678Z",
          "shell.execute_reply": "2023-09-23T20:35:18.372532Z"
        },
        "id": "930a5569",
        "papermill": {
          "duration": 0.502225,
          "end_time": "2023-09-23T20:35:18.376438",
          "exception": false,
          "start_time": "2023-09-23T20:35:17.874213",
          "status": "completed"
        },
        "tags": []
      },
      "outputs": [
        {
          "name": "stderr",
          "output_type": "stream",
          "text": [
            "C:\\Users\\KIIT\\AppData\\Local\\Temp\\ipykernel_34636\\3502624556.py:3: FutureWarning: Downcasting behavior in `replace` is deprecated and will be removed in a future version. To retain the old behavior, explicitly call `result.infer_objects(copy=False)`. To opt-in to the future behavior, set `pd.set_option('future.no_silent_downcasting', True)`\n",
            "  df_dataset['label'] = df_dataset['label'].replace(old_value, new_value)\n"
          ]
        }
      ],
      "source": [
        "old_value = 'benign'\n",
        "new_value = 2\n",
        "df_dataset['label'] = df_dataset['label'].replace(old_value, new_value)"
      ]
    },
    {
      "cell_type": "code",
      "execution_count": 16,
      "id": "da3946f2",
      "metadata": {
        "colab": {
          "base_uri": "https://localhost:8080/"
        },
        "execution": {
          "iopub.execute_input": "2023-09-23T20:35:18.414627Z",
          "iopub.status.busy": "2023-09-23T20:35:18.414250Z",
          "iopub.status.idle": "2023-09-23T20:35:18.430443Z",
          "shell.execute_reply": "2023-09-23T20:35:18.429306Z"
        },
        "id": "da3946f2",
        "outputId": "6e34dda6-7090-4464-9b5b-e4fac330e2eb",
        "papermill": {
          "duration": 0.037681,
          "end_time": "2023-09-23T20:35:18.432802",
          "exception": false,
          "start_time": "2023-09-23T20:35:18.395121",
          "status": "completed"
        },
        "tags": []
      },
      "outputs": [
        {
          "data": {
            "text/plain": [
              "label\n",
              "2    516220\n",
              "0    365385\n",
              "1     78116\n",
              "Name: count, dtype: int64"
            ]
          },
          "execution_count": 16,
          "metadata": {},
          "output_type": "execute_result"
        }
      ],
      "source": [
        "df_dataset[\"label\"].value_counts()"
      ]
    },
    {
      "cell_type": "markdown",
      "id": "c2e868fc",
      "metadata": {
        "id": "c2e868fc",
        "papermill": {
          "duration": 0.017716,
          "end_time": "2023-09-23T20:35:18.468023",
          "exception": false,
          "start_time": "2023-09-23T20:35:18.450307",
          "status": "completed"
        },
        "tags": []
      },
      "source": [
        "# Balancing the data (Undersampling)"
      ]
    },
    {
      "cell_type": "code",
      "execution_count": 17,
      "id": "f0d16c40",
      "metadata": {
        "execution": {
          "iopub.execute_input": "2023-09-23T20:35:18.506178Z",
          "iopub.status.busy": "2023-09-23T20:35:18.505821Z",
          "iopub.status.idle": "2023-09-23T20:35:20.667461Z",
          "shell.execute_reply": "2023-09-23T20:35:20.666371Z"
        },
        "id": "f0d16c40",
        "papermill": {
          "duration": 2.183733,
          "end_time": "2023-09-23T20:35:20.669954",
          "exception": false,
          "start_time": "2023-09-23T20:35:18.486221",
          "status": "completed"
        },
        "tags": []
      },
      "outputs": [],
      "source": [
        "import pandas as pd\n",
        "import numpy as np\n",
        "import matplotlib.pyplot as plt\n",
        "import joblib\n",
        "import sklearn\n",
        "from sklearn.preprocessing import MinMaxScaler\n",
        "from sklearn.ensemble import RandomForestClassifier\n",
        "from sklearn.model_selection import GridSearchCV, train_test_split\n",
        "from sklearn.metrics import accuracy_score, classification_report, confusion_matrix\n",
        "from sklearn.utils import class_weight\n"
      ]
    },
    {
      "cell_type": "code",
      "execution_count": 18,
      "id": "96265866",
      "metadata": {
        "execution": {
          "iopub.execute_input": "2023-09-23T20:35:20.805999Z",
          "iopub.status.busy": "2023-09-23T20:35:20.804114Z",
          "iopub.status.idle": "2023-09-23T20:35:20.811753Z",
          "shell.execute_reply": "2023-09-23T20:35:20.810820Z"
        },
        "id": "96265866",
        "papermill": {
          "duration": 0.031942,
          "end_time": "2023-09-23T20:35:20.814284",
          "exception": false,
          "start_time": "2023-09-23T20:35:20.782342",
          "status": "completed"
        },
        "tags": []
      },
      "outputs": [],
      "source": [
        "from sklearn.model_selection import RandomizedSearchCV\n",
        "from scipy.stats import randint\n",
        "# fig = go.Figure(data=[\n",
        "#     go.Bar(name='Benign',\n",
        "#            y=df_equal[\"label\"].value_counts().values[[2]],\n",
        "#            x=['Benign'],\n",
        "#            text = df_equal[\"label\"].value_counts()[[2]],\n",
        "#            orientation='v',\n",
        "#            textposition='outside',),\n",
        "#     go.Bar(name='Malicious',\n",
        "#            y=df_equal[\"label\"].value_counts().values[[1]],\n",
        "#            x=['Malicious'],\n",
        "#            text = df_equal[\"label\"].value_counts()[[1]],\n",
        "#            orientation='v',\n",
        "#            textposition='outside',),\n",
        "#     go.Bar(name='outlier',\n",
        "#            y=df_equal[\"label\"].value_counts().values[[2]],\n",
        "#            x=['outlier'],\n",
        "#            text = df_equal[\"label\"].value_counts()[[2]],\n",
        "#            orientation='v',\n",
        "#            textposition='outside',)\n",
        "# ])\n",
        "# # Change the bar mode\n",
        "# fig.update_layout(\n",
        "#                   width=800,\n",
        "#                   height=600,\n",
        "#                   title=f'Class Distribution',\n",
        "#                   yaxis_title='Number of attacks',\n",
        "#                   xaxis_title='Attack Name',)\n",
        "# iplot(fig)"
      ]
    },
    {
      "cell_type": "markdown",
      "id": "e3b681e7",
      "metadata": {
        "id": "e3b681e7",
        "papermill": {
          "duration": 0.018771,
          "end_time": "2023-09-23T20:35:20.851599",
          "exception": false,
          "start_time": "2023-09-23T20:35:20.832828",
          "status": "completed"
        },
        "tags": []
      },
      "source": [
        "# Creating train/test split"
      ]
    },
    {
      "cell_type": "code",
      "execution_count": 19,
      "id": "4f5458cb",
      "metadata": {
        "execution": {
          "iopub.execute_input": "2023-09-23T20:35:20.911911Z",
          "iopub.status.busy": "2023-09-23T20:35:20.911353Z",
          "iopub.status.idle": "2023-09-23T20:35:21.220592Z",
          "shell.execute_reply": "2023-09-23T20:35:21.219530Z"
        },
        "id": "4f5458cb",
        "papermill": {
          "duration": 0.342157,
          "end_time": "2023-09-23T20:35:21.223169",
          "exception": false,
          "start_time": "2023-09-23T20:35:20.881012",
          "status": "completed"
        },
        "tags": []
      },
      "outputs": [],
      "source": [
        "df=df_dataset\n",
        "train, test = train_test_split(df, test_size=0.2)"
      ]
    },
    {
      "cell_type": "code",
      "execution_count": 20,
      "id": "c991b514",
      "metadata": {
        "colab": {
          "base_uri": "https://localhost:8080/"
        },
        "execution": {
          "iopub.execute_input": "2023-09-23T20:35:21.279106Z",
          "iopub.status.busy": "2023-09-23T20:35:21.278179Z",
          "iopub.status.idle": "2023-09-23T20:35:21.286997Z",
          "shell.execute_reply": "2023-09-23T20:35:21.284504Z"
        },
        "id": "c991b514",
        "outputId": "879dd834-7353-4fc8-e833-d9b6ea7b2cde",
        "papermill": {
          "duration": 0.042158,
          "end_time": "2023-09-23T20:35:21.291938",
          "exception": false,
          "start_time": "2023-09-23T20:35:21.249780",
          "status": "completed"
        },
        "tags": []
      },
      "outputs": [
        {
          "data": {
            "text/plain": [
              "767776"
            ]
          },
          "execution_count": 20,
          "metadata": {},
          "output_type": "execute_result"
        }
      ],
      "source": [
        "# Number of rows in train dataset\n",
        "len(train)"
      ]
    },
    {
      "cell_type": "code",
      "execution_count": 21,
      "id": "548c762c",
      "metadata": {
        "colab": {
          "base_uri": "https://localhost:8080/"
        },
        "execution": {
          "iopub.execute_input": "2023-09-23T20:35:21.346783Z",
          "iopub.status.busy": "2023-09-23T20:35:21.346289Z",
          "iopub.status.idle": "2023-09-23T20:35:21.353051Z",
          "shell.execute_reply": "2023-09-23T20:35:21.351870Z"
        },
        "id": "548c762c",
        "outputId": "09d38d92-8283-4587-bc5e-f4a4f1aa3851",
        "papermill": {
          "duration": 0.040056,
          "end_time": "2023-09-23T20:35:21.359533",
          "exception": false,
          "start_time": "2023-09-23T20:35:21.319477",
          "status": "completed"
        },
        "tags": []
      },
      "outputs": [
        {
          "data": {
            "text/plain": [
              "191945"
            ]
          },
          "execution_count": 21,
          "metadata": {},
          "output_type": "execute_result"
        }
      ],
      "source": [
        "# rows in test dataset\n",
        "len(test)"
      ]
    },
    {
      "cell_type": "code",
      "execution_count": 22,
      "id": "fdf1610f",
      "metadata": {
        "colab": {
          "base_uri": "https://localhost:8080/"
        },
        "execution": {
          "iopub.execute_input": "2023-09-23T20:35:21.418875Z",
          "iopub.status.busy": "2023-09-23T20:35:21.418396Z",
          "iopub.status.idle": "2023-09-23T20:35:21.443245Z",
          "shell.execute_reply": "2023-09-23T20:35:21.442248Z"
        },
        "id": "fdf1610f",
        "outputId": "611c0f70-631f-4e27-e6d4-f66ae255ee88",
        "papermill": {
          "duration": 0.057921,
          "end_time": "2023-09-23T20:35:21.446166",
          "exception": false,
          "start_time": "2023-09-23T20:35:21.388245",
          "status": "completed"
        },
        "tags": []
      },
      "outputs": [
        {
          "name": "stdout",
          "output_type": "stream",
          "text": [
            "<class 'pandas.core.frame.DataFrame'>\n",
            "Index: 191945 entries, 1031798 to 281934\n",
            "Data columns (total 14 columns):\n",
            " #   Column         Non-Null Count   Dtype  \n",
            "---  ------         --------------   -----  \n",
            " 0   avg_ipt        191945 non-null  float64\n",
            " 1   bytes_in       191945 non-null  int64  \n",
            " 2   bytes_out      191945 non-null  int64  \n",
            " 3   dest_ip        191945 non-null  int64  \n",
            " 4   dest_port      191945 non-null  float64\n",
            " 5   entropy        191945 non-null  float64\n",
            " 6   proto          191945 non-null  int64  \n",
            " 7   src_ip         191945 non-null  int64  \n",
            " 8   src_port       191945 non-null  float64\n",
            " 9   time_end       191945 non-null  int64  \n",
            " 10  time_start     191945 non-null  int64  \n",
            " 11  total_entropy  191945 non-null  float64\n",
            " 12  label          191945 non-null  int64  \n",
            " 13  duration       191945 non-null  float64\n",
            "dtypes: float64(6), int64(8)\n",
            "memory usage: 22.0 MB\n"
          ]
        }
      ],
      "source": [
        "test.info()"
      ]
    },
    {
      "cell_type": "code",
      "execution_count": 23,
      "id": "d57c4d53",
      "metadata": {
        "colab": {
          "base_uri": "https://localhost:8080/"
        },
        "execution": {
          "iopub.execute_input": "2023-09-23T20:35:21.504906Z",
          "iopub.status.busy": "2023-09-23T20:35:21.504398Z",
          "iopub.status.idle": "2023-09-23T20:35:21.539291Z",
          "shell.execute_reply": "2023-09-23T20:35:21.538059Z"
        },
        "id": "d57c4d53",
        "outputId": "bf751b81-889c-4882-bc86-2ca602fc07d6",
        "papermill": {
          "duration": 0.069493,
          "end_time": "2023-09-23T20:35:21.543823",
          "exception": false,
          "start_time": "2023-09-23T20:35:21.474330",
          "status": "completed"
        },
        "tags": []
      },
      "outputs": [
        {
          "name": "stdout",
          "output_type": "stream",
          "text": [
            "<class 'pandas.core.frame.DataFrame'>\n",
            "Index: 767776 entries, 223809 to 446868\n",
            "Data columns (total 14 columns):\n",
            " #   Column         Non-Null Count   Dtype  \n",
            "---  ------         --------------   -----  \n",
            " 0   avg_ipt        767776 non-null  float64\n",
            " 1   bytes_in       767776 non-null  int64  \n",
            " 2   bytes_out      767776 non-null  int64  \n",
            " 3   dest_ip        767776 non-null  int64  \n",
            " 4   dest_port      767776 non-null  float64\n",
            " 5   entropy        767776 non-null  float64\n",
            " 6   proto          767776 non-null  int64  \n",
            " 7   src_ip         767776 non-null  int64  \n",
            " 8   src_port       767776 non-null  float64\n",
            " 9   time_end       767776 non-null  int64  \n",
            " 10  time_start     767776 non-null  int64  \n",
            " 11  total_entropy  767776 non-null  float64\n",
            " 12  label          767776 non-null  int64  \n",
            " 13  duration       767776 non-null  float64\n",
            "dtypes: float64(6), int64(8)\n",
            "memory usage: 87.9 MB\n"
          ]
        }
      ],
      "source": [
        "train.info()"
      ]
    },
    {
      "cell_type": "markdown",
      "id": "025ef064",
      "metadata": {
        "id": "025ef064",
        "papermill": {
          "duration": 0.029592,
          "end_time": "2023-09-23T20:35:21.609315",
          "exception": false,
          "start_time": "2023-09-23T20:35:21.579723",
          "status": "completed"
        },
        "tags": []
      },
      "source": [
        "# Feature scaling"
      ]
    },
    {
      "cell_type": "code",
      "execution_count": 24,
      "id": "ed57c940",
      "metadata": {
        "execution": {
          "iopub.execute_input": "2023-09-23T20:35:21.665862Z",
          "iopub.status.busy": "2023-09-23T20:35:21.665463Z",
          "iopub.status.idle": "2023-09-23T20:35:21.724867Z",
          "shell.execute_reply": "2023-09-23T20:35:21.723772Z"
        },
        "id": "ed57c940",
        "papermill": {
          "duration": 0.091674,
          "end_time": "2023-09-23T20:35:21.728326",
          "exception": false,
          "start_time": "2023-09-23T20:35:21.636652",
          "status": "completed"
        },
        "tags": []
      },
      "outputs": [],
      "source": [
        "min_max_scaler = MinMaxScaler().fit(train[['avg_ipt', 'bytes_in', 'bytes_out', 'dest_port', 'entropy','src_port','total_entropy', 'duration']])"
      ]
    },
    {
      "cell_type": "code",
      "execution_count": 25,
      "id": "3aa6cb59",
      "metadata": {
        "execution": {
          "iopub.execute_input": "2023-09-23T20:35:21.789947Z",
          "iopub.status.busy": "2023-09-23T20:35:21.789542Z",
          "iopub.status.idle": "2023-09-23T20:35:21.794296Z",
          "shell.execute_reply": "2023-09-23T20:35:21.793483Z"
        },
        "id": "3aa6cb59",
        "papermill": {
          "duration": 0.039528,
          "end_time": "2023-09-23T20:35:21.798531",
          "exception": false,
          "start_time": "2023-09-23T20:35:21.759003",
          "status": "completed"
        },
        "tags": []
      },
      "outputs": [],
      "source": [
        "numerical_columns = ['avg_ipt', 'bytes_in', 'bytes_out', 'dest_port', 'entropy', 'src_port','total_entropy', 'duration']"
      ]
    },
    {
      "cell_type": "code",
      "execution_count": 26,
      "id": "fb381dba",
      "metadata": {
        "execution": {
          "iopub.execute_input": "2023-09-23T20:35:21.860250Z",
          "iopub.status.busy": "2023-09-23T20:35:21.859815Z",
          "iopub.status.idle": "2023-09-23T20:35:22.004825Z",
          "shell.execute_reply": "2023-09-23T20:35:22.003618Z"
        },
        "id": "fb381dba",
        "papermill": {
          "duration": 0.177269,
          "end_time": "2023-09-23T20:35:22.008474",
          "exception": false,
          "start_time": "2023-09-23T20:35:21.831205",
          "status": "completed"
        },
        "tags": []
      },
      "outputs": [],
      "source": [
        "train[numerical_columns] = min_max_scaler.transform(train[numerical_columns])"
      ]
    },
    {
      "cell_type": "code",
      "execution_count": 27,
      "id": "92afb15f",
      "metadata": {
        "colab": {
          "base_uri": "https://localhost:8080/"
        },
        "execution": {
          "iopub.execute_input": "2023-09-23T20:35:22.073885Z",
          "iopub.status.busy": "2023-09-23T20:35:22.073420Z",
          "iopub.status.idle": "2023-09-23T20:35:22.079472Z",
          "shell.execute_reply": "2023-09-23T20:35:22.078483Z"
        },
        "id": "92afb15f",
        "outputId": "1b505be0-4155-4e24-f2cd-8d60ae845c94",
        "papermill": {
          "duration": 0.046334,
          "end_time": "2023-09-23T20:35:22.087007",
          "exception": false,
          "start_time": "2023-09-23T20:35:22.040673",
          "status": "completed"
        },
        "tags": []
      },
      "outputs": [
        {
          "name": "stdout",
          "output_type": "stream",
          "text": [
            "767776\n"
          ]
        }
      ],
      "source": [
        "print(len(train))"
      ]
    },
    {
      "cell_type": "code",
      "execution_count": 28,
      "id": "196e44c4",
      "metadata": {
        "execution": {
          "iopub.execute_input": "2023-09-23T20:35:22.151341Z",
          "iopub.status.busy": "2023-09-23T20:35:22.150884Z",
          "iopub.status.idle": "2023-09-23T20:35:22.187842Z",
          "shell.execute_reply": "2023-09-23T20:35:22.186796Z"
        },
        "id": "196e44c4",
        "papermill": {
          "duration": 0.072399,
          "end_time": "2023-09-23T20:35:22.190967",
          "exception": false,
          "start_time": "2023-09-23T20:35:22.118568",
          "status": "completed"
        },
        "tags": []
      },
      "outputs": [],
      "source": [
        "test[numerical_columns] = min_max_scaler.transform(test[numerical_columns])"
      ]
    },
    {
      "cell_type": "markdown",
      "id": "cadb6669",
      "metadata": {
        "id": "cadb6669",
        "papermill": {
          "duration": 0.027746,
          "end_time": "2023-09-23T20:35:22.245945",
          "exception": false,
          "start_time": "2023-09-23T20:35:22.218199",
          "status": "completed"
        },
        "tags": []
      },
      "source": [
        "# Counting number of records in each split"
      ]
    },
    {
      "cell_type": "code",
      "execution_count": 29,
      "id": "2469b664",
      "metadata": {
        "colab": {
          "base_uri": "https://localhost:8080/"
        },
        "execution": {
          "iopub.execute_input": "2023-09-23T20:35:22.302214Z",
          "iopub.status.busy": "2023-09-23T20:35:22.301252Z",
          "iopub.status.idle": "2023-09-23T20:35:22.390200Z",
          "shell.execute_reply": "2023-09-23T20:35:22.389244Z"
        },
        "id": "2469b664",
        "outputId": "18b261fd-b1ad-49ac-8fc8-b824c94bc6da",
        "papermill": {
          "duration": 0.11969,
          "end_time": "2023-09-23T20:35:22.393058",
          "exception": false,
          "start_time": "2023-09-23T20:35:22.273368",
          "status": "completed"
        },
        "tags": []
      },
      "outputs": [
        {
          "name": "stdout",
          "output_type": "stream",
          "text": [
            "Full dataset:\n",
            "\n",
            "Benign: 516220\n",
            "Malicious: 78116\n",
            "outlier: 365385\n",
            "---------------\n",
            "Training set:\n",
            "\n",
            "Benign: 413164\n",
            "Malicious: 62609\n",
            "outlier: 292003\n",
            "---------------\n",
            "Test set:\n",
            "\n",
            "Benign: 103056\n",
            "Malicious: 15507\n",
            "outlier: 73382\n"
          ]
        }
      ],
      "source": [
        "print(\"Full dataset:\\n\")\n",
        "print(\"Benign: \" + str(df[\"label\"].value_counts()[[2]].sum()))\n",
        "print(\"Malicious: \" + str(df[\"label\"].value_counts()[[1]].sum()))\n",
        "print(\"outlier: \" + str(df[\"label\"].value_counts()[[0]].sum()))\n",
        "print(\"---------------\")\n",
        "\n",
        "print(\"Training set:\\n\")\n",
        "print(\"Benign: \" + str(train[\"label\"].value_counts()[[2]].sum()))\n",
        "print(\"Malicious: \" + str(train[\"label\"].value_counts()[[1]].sum()))\n",
        "print(\"outlier: \" + str(train[\"label\"].value_counts()[[0]].sum()))\n",
        "print(\"---------------\")\n",
        "\n",
        "print(\"Test set:\\n\")\n",
        "print(\"Benign: \" + str(test[\"label\"].value_counts()[[2]].sum()))\n",
        "print(\"Malicious: \" + str(test[\"label\"].value_counts()[[1]].sum()))\n",
        "print(\"outlier: \" + str(test[\"label\"].value_counts()[[0]].sum()))"
      ]
    },
    {
      "cell_type": "markdown",
      "id": "64d03b45",
      "metadata": {
        "id": "64d03b45",
        "papermill": {
          "duration": 0.027381,
          "end_time": "2023-09-23T20:35:22.449147",
          "exception": false,
          "start_time": "2023-09-23T20:35:22.421766",
          "status": "completed"
        },
        "tags": []
      },
      "source": [
        "# Creating X, y variables"
      ]
    },
    {
      "cell_type": "code",
      "execution_count": 30,
      "id": "1359ffcd",
      "metadata": {
        "execution": {
          "iopub.execute_input": "2023-09-23T20:35:22.506881Z",
          "iopub.status.busy": "2023-09-23T20:35:22.506411Z",
          "iopub.status.idle": "2023-09-23T20:35:22.596079Z",
          "shell.execute_reply": "2023-09-23T20:35:22.595141Z"
        },
        "id": "1359ffcd",
        "papermill": {
          "duration": 0.121577,
          "end_time": "2023-09-23T20:35:22.598761",
          "exception": false,
          "start_time": "2023-09-23T20:35:22.477184",
          "status": "completed"
        },
        "tags": []
      },
      "outputs": [],
      "source": [
        "y_train = np.array(train.pop('label'))# pop removes \"Label\" from the dataframe\n",
        "X_train = train.values"
      ]
    },
    {
      "cell_type": "code",
      "execution_count": 31,
      "id": "ffdebdc6",
      "metadata": {
        "execution": {
          "iopub.execute_input": "2023-09-23T20:35:22.639894Z",
          "iopub.status.busy": "2023-09-23T20:35:22.638974Z",
          "iopub.status.idle": "2023-09-23T20:35:22.658141Z",
          "shell.execute_reply": "2023-09-23T20:35:22.657011Z"
        },
        "id": "ffdebdc6",
        "papermill": {
          "duration": 0.04302,
          "end_time": "2023-09-23T20:35:22.660981",
          "exception": false,
          "start_time": "2023-09-23T20:35:22.617961",
          "status": "completed"
        },
        "tags": []
      },
      "outputs": [],
      "source": [
        "y_test = np.array(test.pop(\"label\")) # pop removes \"Label\" from the dataframe\n",
        "X_test = test.values"
      ]
    },
    {
      "cell_type": "code",
      "execution_count": 32,
      "id": "654f72f6",
      "metadata": {
        "colab": {
          "base_uri": "https://localhost:8080/"
        },
        "execution": {
          "iopub.execute_input": "2023-09-23T20:35:22.702084Z",
          "iopub.status.busy": "2023-09-23T20:35:22.701736Z",
          "iopub.status.idle": "2023-09-23T20:35:22.716191Z",
          "shell.execute_reply": "2023-09-23T20:35:22.714925Z"
        },
        "id": "654f72f6",
        "outputId": "16276493-2d4d-475f-c957-11a0341f4556",
        "papermill": {
          "duration": 0.036914,
          "end_time": "2023-09-23T20:35:22.718843",
          "exception": false,
          "start_time": "2023-09-23T20:35:22.681929",
          "status": "completed"
        },
        "tags": []
      },
      "outputs": [
        {
          "data": {
            "text/plain": [
              "array([0, 2, 1], dtype=int64)"
            ]
          },
          "execution_count": 32,
          "metadata": {},
          "output_type": "execute_result"
        }
      ],
      "source": [
        "# Checking unique values in the label column\n",
        "df['label'].unique()"
      ]
    },
    {
      "cell_type": "markdown",
      "id": "a54e004d",
      "metadata": {
        "id": "a54e004d",
        "papermill": {
          "duration": 0.019822,
          "end_time": "2023-09-23T20:35:22.761867",
          "exception": false,
          "start_time": "2023-09-23T20:35:22.742045",
          "status": "completed"
        },
        "tags": []
      },
      "source": [
        "# Neural Network"
      ]
    },
    {
      "cell_type": "code",
      "execution_count": 33,
      "id": "dd2d7e4a",
      "metadata": {
        "execution": {
          "iopub.execute_input": "2023-09-23T20:35:22.801469Z",
          "iopub.status.busy": "2023-09-23T20:35:22.801087Z",
          "iopub.status.idle": "2023-09-23T20:35:29.802549Z",
          "shell.execute_reply": "2023-09-23T20:35:29.801480Z"
        },
        "id": "dd2d7e4a",
        "papermill": {
          "duration": 7.024501,
          "end_time": "2023-09-23T20:35:29.805332",
          "exception": false,
          "start_time": "2023-09-23T20:35:22.780831",
          "status": "completed"
        },
        "tags": []
      },
      "outputs": [
        {
          "name": "stdout",
          "output_type": "stream",
          "text": [
            "2.18.0\n"
          ]
        }
      ],
      "source": [
        "import tensorflow as tf\n",
        "print(tf.__version__)"
      ]
    },
    {
      "cell_type": "code",
      "execution_count": 34,
      "id": "1af5d1c9",
      "metadata": {},
      "outputs": [
        {
          "name": "stdout",
          "output_type": "stream",
          "text": [
            "3.8.0\n"
          ]
        }
      ],
      "source": [
        "from tensorflow import keras\n",
        "print(keras.__version__)"
      ]
    },
    {
      "cell_type": "code",
      "execution_count": 35,
      "id": "bc957c9e",
      "metadata": {
        "execution": {
          "iopub.execute_input": "2023-09-23T20:35:29.850305Z",
          "iopub.status.busy": "2023-09-23T20:35:29.849492Z",
          "iopub.status.idle": "2023-09-23T20:35:29.858200Z",
          "shell.execute_reply": "2023-09-23T20:35:29.857121Z"
        },
        "id": "bc957c9e",
        "papermill": {
          "duration": 0.034654,
          "end_time": "2023-09-23T20:35:29.860615",
          "exception": false,
          "start_time": "2023-09-23T20:35:29.825961",
          "status": "completed"
        },
        "tags": []
      },
      "outputs": [],
      "source": [
        "from tensorflow.keras import layers\n",
        "from tensorflow.keras.models import Sequential\n",
        "from tensorflow.keras.layers import Dense,LSTM,Conv1D,MaxPool1D,Dropout,Flatten,Reshape\n",
        "from tensorflow.python.keras.losses import SparseCategoricalCrossentropy"
      ]
    },
    {
      "cell_type": "code",
      "execution_count": 36,
      "id": "181d9af4",
      "metadata": {},
      "outputs": [],
      "source": [
        "model= Sequential()"
      ]
    },
    {
      "cell_type": "markdown",
      "id": "700f8400",
      "metadata": {},
      "source": [
        "LTSM"
      ]
    },
    {
      "cell_type": "code",
      "execution_count": 37,
      "id": "cde65469",
      "metadata": {},
      "outputs": [
        {
          "name": "stdout",
          "output_type": "stream",
          "text": [
            "<class 'keras.src.layers.convolutional.conv1d.Conv1D'>\n"
          ]
        },
        {
          "name": "stderr",
          "output_type": "stream",
          "text": [
            "d:\\python\\anac\\Lib\\site-packages\\keras\\src\\layers\\convolutional\\base_conv.py:107: UserWarning: Do not pass an `input_shape`/`input_dim` argument to a layer. When using Sequential models, prefer using an `Input(shape)` object as the first layer in the model instead.\n",
            "  super().__init__(activity_regularizer=activity_regularizer, **kwargs)\n"
          ]
        }
      ],
      "source": [
        "conv_layer=Conv1D(512, kernel_size=1, padding=\"same\", activation='relu', input_shape=(X_train.shape[1], 1))\n",
        "model.add(conv_layer)\n",
        "print(type(conv_layer))  "
      ]
    },
    {
      "cell_type": "code",
      "execution_count": 38,
      "id": "29aeacce",
      "metadata": {
        "execution": {
          "iopub.execute_input": "2023-09-23T20:35:29.902752Z",
          "iopub.status.busy": "2023-09-23T20:35:29.901605Z",
          "iopub.status.idle": "2023-09-23T20:35:33.248923Z",
          "shell.execute_reply": "2023-09-23T20:35:33.247788Z"
        },
        "id": "29aeacce",
        "papermill": {
          "duration": 3.371408,
          "end_time": "2023-09-23T20:35:33.251736",
          "exception": false,
          "start_time": "2023-09-23T20:35:29.880328",
          "status": "completed"
        },
        "tags": []
      },
      "outputs": [],
      "source": [
        "model.add(MaxPool1D(pool_size=(2)))\n",
        "model.add(LSTM(units=16,return_sequences=False,dropout=0.2))\n",
        "model.add(Dense(units=3,activation='softmax'))"
      ]
    },
    {
      "cell_type": "code",
      "execution_count": 39,
      "id": "2c57ba99",
      "metadata": {
        "colab": {
          "base_uri": "https://localhost:8080/",
          "height": 338
        },
        "execution": {
          "iopub.execute_input": "2023-09-23T20:35:33.291399Z",
          "iopub.status.busy": "2023-09-23T20:35:33.291008Z",
          "iopub.status.idle": "2023-09-23T20:35:33.329294Z",
          "shell.execute_reply": "2023-09-23T20:35:33.328510Z"
        },
        "id": "2c57ba99",
        "outputId": "942d49e3-5f17-4779-d51b-269ec83ff4cd",
        "papermill": {
          "duration": 0.070519,
          "end_time": "2023-09-23T20:35:33.341394",
          "exception": false,
          "start_time": "2023-09-23T20:35:33.270875",
          "status": "completed"
        },
        "tags": []
      },
      "outputs": [
        {
          "data": {
            "text/html": [
              "<pre style=\"white-space:pre;overflow-x:auto;line-height:normal;font-family:Menlo,'DejaVu Sans Mono',consolas,'Courier New',monospace\"><span style=\"font-weight: bold\">Model: \"sequential\"</span>\n",
              "</pre>\n"
            ],
            "text/plain": [
              "\u001b[1mModel: \"sequential\"\u001b[0m\n"
            ]
          },
          "metadata": {},
          "output_type": "display_data"
        },
        {
          "data": {
            "text/html": [
              "<pre style=\"white-space:pre;overflow-x:auto;line-height:normal;font-family:Menlo,'DejaVu Sans Mono',consolas,'Courier New',monospace\">┏━━━━━━━━━━━━━━━━━━━━━━━━━━━━━━━━━┳━━━━━━━━━━━━━━━━━━━━━━━━┳━━━━━━━━━━━━━━━┓\n",
              "┃<span style=\"font-weight: bold\"> Layer (type)                    </span>┃<span style=\"font-weight: bold\"> Output Shape           </span>┃<span style=\"font-weight: bold\">       Param # </span>┃\n",
              "┡━━━━━━━━━━━━━━━━━━━━━━━━━━━━━━━━━╇━━━━━━━━━━━━━━━━━━━━━━━━╇━━━━━━━━━━━━━━━┩\n",
              "│ conv1d (<span style=\"color: #0087ff; text-decoration-color: #0087ff\">Conv1D</span>)                 │ (<span style=\"color: #00d7ff; text-decoration-color: #00d7ff\">None</span>, <span style=\"color: #00af00; text-decoration-color: #00af00\">13</span>, <span style=\"color: #00af00; text-decoration-color: #00af00\">512</span>)        │         <span style=\"color: #00af00; text-decoration-color: #00af00\">1,024</span> │\n",
              "├─────────────────────────────────┼────────────────────────┼───────────────┤\n",
              "│ max_pooling1d (<span style=\"color: #0087ff; text-decoration-color: #0087ff\">MaxPooling1D</span>)    │ (<span style=\"color: #00d7ff; text-decoration-color: #00d7ff\">None</span>, <span style=\"color: #00af00; text-decoration-color: #00af00\">6</span>, <span style=\"color: #00af00; text-decoration-color: #00af00\">512</span>)         │             <span style=\"color: #00af00; text-decoration-color: #00af00\">0</span> │\n",
              "├─────────────────────────────────┼────────────────────────┼───────────────┤\n",
              "│ lstm (<span style=\"color: #0087ff; text-decoration-color: #0087ff\">LSTM</span>)                     │ (<span style=\"color: #00d7ff; text-decoration-color: #00d7ff\">None</span>, <span style=\"color: #00af00; text-decoration-color: #00af00\">16</span>)             │        <span style=\"color: #00af00; text-decoration-color: #00af00\">33,856</span> │\n",
              "├─────────────────────────────────┼────────────────────────┼───────────────┤\n",
              "│ dense (<span style=\"color: #0087ff; text-decoration-color: #0087ff\">Dense</span>)                   │ (<span style=\"color: #00d7ff; text-decoration-color: #00d7ff\">None</span>, <span style=\"color: #00af00; text-decoration-color: #00af00\">3</span>)              │            <span style=\"color: #00af00; text-decoration-color: #00af00\">51</span> │\n",
              "└─────────────────────────────────┴────────────────────────┴───────────────┘\n",
              "</pre>\n"
            ],
            "text/plain": [
              "┏━━━━━━━━━━━━━━━━━━━━━━━━━━━━━━━━━┳━━━━━━━━━━━━━━━━━━━━━━━━┳━━━━━━━━━━━━━━━┓\n",
              "┃\u001b[1m \u001b[0m\u001b[1mLayer (type)                   \u001b[0m\u001b[1m \u001b[0m┃\u001b[1m \u001b[0m\u001b[1mOutput Shape          \u001b[0m\u001b[1m \u001b[0m┃\u001b[1m \u001b[0m\u001b[1m      Param #\u001b[0m\u001b[1m \u001b[0m┃\n",
              "┡━━━━━━━━━━━━━━━━━━━━━━━━━━━━━━━━━╇━━━━━━━━━━━━━━━━━━━━━━━━╇━━━━━━━━━━━━━━━┩\n",
              "│ conv1d (\u001b[38;5;33mConv1D\u001b[0m)                 │ (\u001b[38;5;45mNone\u001b[0m, \u001b[38;5;34m13\u001b[0m, \u001b[38;5;34m512\u001b[0m)        │         \u001b[38;5;34m1,024\u001b[0m │\n",
              "├─────────────────────────────────┼────────────────────────┼───────────────┤\n",
              "│ max_pooling1d (\u001b[38;5;33mMaxPooling1D\u001b[0m)    │ (\u001b[38;5;45mNone\u001b[0m, \u001b[38;5;34m6\u001b[0m, \u001b[38;5;34m512\u001b[0m)         │             \u001b[38;5;34m0\u001b[0m │\n",
              "├─────────────────────────────────┼────────────────────────┼───────────────┤\n",
              "│ lstm (\u001b[38;5;33mLSTM\u001b[0m)                     │ (\u001b[38;5;45mNone\u001b[0m, \u001b[38;5;34m16\u001b[0m)             │        \u001b[38;5;34m33,856\u001b[0m │\n",
              "├─────────────────────────────────┼────────────────────────┼───────────────┤\n",
              "│ dense (\u001b[38;5;33mDense\u001b[0m)                   │ (\u001b[38;5;45mNone\u001b[0m, \u001b[38;5;34m3\u001b[0m)              │            \u001b[38;5;34m51\u001b[0m │\n",
              "└─────────────────────────────────┴────────────────────────┴───────────────┘\n"
            ]
          },
          "metadata": {},
          "output_type": "display_data"
        },
        {
          "data": {
            "text/html": [
              "<pre style=\"white-space:pre;overflow-x:auto;line-height:normal;font-family:Menlo,'DejaVu Sans Mono',consolas,'Courier New',monospace\"><span style=\"font-weight: bold\"> Total params: </span><span style=\"color: #00af00; text-decoration-color: #00af00\">34,931</span> (136.45 KB)\n",
              "</pre>\n"
            ],
            "text/plain": [
              "\u001b[1m Total params: \u001b[0m\u001b[38;5;34m34,931\u001b[0m (136.45 KB)\n"
            ]
          },
          "metadata": {},
          "output_type": "display_data"
        },
        {
          "data": {
            "text/html": [
              "<pre style=\"white-space:pre;overflow-x:auto;line-height:normal;font-family:Menlo,'DejaVu Sans Mono',consolas,'Courier New',monospace\"><span style=\"font-weight: bold\"> Trainable params: </span><span style=\"color: #00af00; text-decoration-color: #00af00\">34,931</span> (136.45 KB)\n",
              "</pre>\n"
            ],
            "text/plain": [
              "\u001b[1m Trainable params: \u001b[0m\u001b[38;5;34m34,931\u001b[0m (136.45 KB)\n"
            ]
          },
          "metadata": {},
          "output_type": "display_data"
        },
        {
          "data": {
            "text/html": [
              "<pre style=\"white-space:pre;overflow-x:auto;line-height:normal;font-family:Menlo,'DejaVu Sans Mono',consolas,'Courier New',monospace\"><span style=\"font-weight: bold\"> Non-trainable params: </span><span style=\"color: #00af00; text-decoration-color: #00af00\">0</span> (0.00 B)\n",
              "</pre>\n"
            ],
            "text/plain": [
              "\u001b[1m Non-trainable params: \u001b[0m\u001b[38;5;34m0\u001b[0m (0.00 B)\n"
            ]
          },
          "metadata": {},
          "output_type": "display_data"
        }
      ],
      "source": [
        "# defining loss function, optimizer, metrics and then compiling model\n",
        "model.compile(loss='categorical_crossentropy', optimizer = tf.keras.optimizers.Adam(learning_rate=0.001), metrics=['accuracy'])\n",
        "model.summary()"
      ]
    },
    {
      "cell_type": "code",
      "execution_count": 40,
      "id": "4195186f",
      "metadata": {},
      "outputs": [],
      "source": [
        "from tensorflow.keras.utils import to_categorical\n",
        "\n",
        "num_classes = 3  # Set this to match your output layer\n",
        "y_train = to_categorical(y_train, num_classes)\n",
        "y_test = to_categorical(y_test, num_classes)\n"
      ]
    },
    {
      "cell_type": "code",
      "execution_count": 41,
      "id": "a87c2c4f",
      "metadata": {},
      "outputs": [
        {
          "name": "stdout",
          "output_type": "stream",
          "text": [
            "y_train shape: (767776, 3)\n",
            "y_test shape: (191945, 3)\n"
          ]
        }
      ],
      "source": [
        "print(f\"y_train shape: {y_train.shape}\")\n",
        "print(f\"y_test shape: {y_test.shape}\")"
      ]
    },
    {
      "cell_type": "code",
      "execution_count": 42,
      "id": "17f6b77f",
      "metadata": {
        "colab": {
          "base_uri": "https://localhost:8080/",
          "height": 321
        },
        "execution": {
          "iopub.execute_input": "2023-09-23T20:35:33.385516Z",
          "iopub.status.busy": "2023-09-23T20:35:33.385121Z",
          "iopub.status.idle": "2023-09-23T20:46:57.698982Z",
          "shell.execute_reply": "2023-09-23T20:46:57.697881Z"
        },
        "id": "17f6b77f",
        "outputId": "47efdd53-9ba9-4b53-d653-15680c8036c3",
        "papermill": {
          "duration": 684.339792,
          "end_time": "2023-09-23T20:46:57.701924",
          "exception": false,
          "start_time": "2023-09-23T20:35:33.362132",
          "status": "completed"
        },
        "tags": []
      },
      "outputs": [
        {
          "name": "stdout",
          "output_type": "stream",
          "text": [
            "Epoch 1/10\n",
            "\u001b[1m1500/1500\u001b[0m \u001b[32m━━━━━━━━━━━━━━━━━━━━\u001b[0m\u001b[37m\u001b[0m \u001b[1m76s\u001b[0m 48ms/step - accuracy: 0.5360 - loss: 0.9168 - val_accuracy: 0.5369 - val_loss: 0.9048\n",
            "Epoch 2/10\n",
            "\u001b[1m1500/1500\u001b[0m \u001b[32m━━━━━━━━━━━━━━━━━━━━\u001b[0m\u001b[37m\u001b[0m \u001b[1m73s\u001b[0m 49ms/step - accuracy: 0.5379 - loss: 0.9050 - val_accuracy: 0.5369 - val_loss: 0.9048\n",
            "Epoch 3/10\n",
            "\u001b[1m1500/1500\u001b[0m \u001b[32m━━━━━━━━━━━━━━━━━━━━\u001b[0m\u001b[37m\u001b[0m \u001b[1m71s\u001b[0m 47ms/step - accuracy: 0.5386 - loss: 0.9054 - val_accuracy: 0.5369 - val_loss: 0.9049\n",
            "Epoch 4/10\n",
            "\u001b[1m1500/1500\u001b[0m \u001b[32m━━━━━━━━━━━━━━━━━━━━\u001b[0m\u001b[37m\u001b[0m \u001b[1m69s\u001b[0m 46ms/step - accuracy: 0.5372 - loss: 0.9064 - val_accuracy: 0.5369 - val_loss: 0.9048\n",
            "Epoch 5/10\n",
            "\u001b[1m1500/1500\u001b[0m \u001b[32m━━━━━━━━━━━━━━━━━━━━\u001b[0m\u001b[37m\u001b[0m \u001b[1m69s\u001b[0m 46ms/step - accuracy: 0.5384 - loss: 0.9050 - val_accuracy: 0.5369 - val_loss: 0.9049\n",
            "Epoch 6/10\n",
            "\u001b[1m1500/1500\u001b[0m \u001b[32m━━━━━━━━━━━━━━━━━━━━\u001b[0m\u001b[37m\u001b[0m \u001b[1m71s\u001b[0m 47ms/step - accuracy: 0.5382 - loss: 0.9043 - val_accuracy: 0.5369 - val_loss: 0.9048\n",
            "Epoch 7/10\n",
            "\u001b[1m1500/1500\u001b[0m \u001b[32m━━━━━━━━━━━━━━━━━━━━\u001b[0m\u001b[37m\u001b[0m \u001b[1m70s\u001b[0m 47ms/step - accuracy: 0.5384 - loss: 0.9047 - val_accuracy: 0.5369 - val_loss: 0.9048\n",
            "Epoch 8/10\n",
            "\u001b[1m1500/1500\u001b[0m \u001b[32m━━━━━━━━━━━━━━━━━━━━\u001b[0m\u001b[37m\u001b[0m \u001b[1m89s\u001b[0m 51ms/step - accuracy: 0.5418 - loss: 0.9033 - val_accuracy: 0.8478 - val_loss: 0.5741\n",
            "Epoch 9/10\n",
            "\u001b[1m1500/1500\u001b[0m \u001b[32m━━━━━━━━━━━━━━━━━━━━\u001b[0m\u001b[37m\u001b[0m \u001b[1m77s\u001b[0m 51ms/step - accuracy: 0.8475 - loss: 0.4921 - val_accuracy: 0.8581 - val_loss: 0.3903\n",
            "Epoch 10/10\n",
            "\u001b[1m1500/1500\u001b[0m \u001b[32m━━━━━━━━━━━━━━━━━━━━\u001b[0m\u001b[37m\u001b[0m \u001b[1m75s\u001b[0m 50ms/step - accuracy: 0.8572 - loss: 0.3855 - val_accuracy: 0.8630 - val_loss: 0.3617\n"
          ]
        }
      ],
      "source": [
        "history=model.fit(X_train, y_train, epochs=10, batch_size=512, validation_data=(X_test,y_test))"
      ]
    },
    {
      "cell_type": "markdown",
      "id": "13aeeff5",
      "metadata": {
        "id": "13aeeff5",
        "papermill": {
          "duration": 0.932505,
          "end_time": "2023-09-23T20:46:59.504349",
          "exception": false,
          "start_time": "2023-09-23T20:46:58.571844",
          "status": "completed"
        },
        "tags": []
      },
      "source": [
        "# Decision Tree Classifier"
      ]
    },
    {
      "cell_type": "code",
      "execution_count": 43,
      "id": "d2962b97",
      "metadata": {
        "colab": {
          "base_uri": "https://localhost:8080/",
          "height": 118
        },
        "execution": {
          "iopub.execute_input": "2023-09-23T20:47:01.357316Z",
          "iopub.status.busy": "2023-09-23T20:47:01.355109Z",
          "iopub.status.idle": "2023-09-23T20:51:27.764647Z",
          "shell.execute_reply": "2023-09-23T20:51:27.763401Z"
        },
        "id": "d2962b97",
        "outputId": "8fbaf470-c49f-4f53-e8e8-fd998cc1f7c4",
        "papermill": {
          "duration": 268.29602,
          "end_time": "2023-09-23T20:51:28.680529",
          "exception": false,
          "start_time": "2023-09-23T20:47:00.384509",
          "status": "completed"
        },
        "tags": []
      },
      "outputs": [
        {
          "data": {
            "text/html": [
              "<style>#sk-container-id-1 {\n",
              "  /* Definition of color scheme common for light and dark mode */\n",
              "  --sklearn-color-text: black;\n",
              "  --sklearn-color-line: gray;\n",
              "  /* Definition of color scheme for unfitted estimators */\n",
              "  --sklearn-color-unfitted-level-0: #fff5e6;\n",
              "  --sklearn-color-unfitted-level-1: #f6e4d2;\n",
              "  --sklearn-color-unfitted-level-2: #ffe0b3;\n",
              "  --sklearn-color-unfitted-level-3: chocolate;\n",
              "  /* Definition of color scheme for fitted estimators */\n",
              "  --sklearn-color-fitted-level-0: #f0f8ff;\n",
              "  --sklearn-color-fitted-level-1: #d4ebff;\n",
              "  --sklearn-color-fitted-level-2: #b3dbfd;\n",
              "  --sklearn-color-fitted-level-3: cornflowerblue;\n",
              "\n",
              "  /* Specific color for light theme */\n",
              "  --sklearn-color-text-on-default-background: var(--sg-text-color, var(--theme-code-foreground, var(--jp-content-font-color1, black)));\n",
              "  --sklearn-color-background: var(--sg-background-color, var(--theme-background, var(--jp-layout-color0, white)));\n",
              "  --sklearn-color-border-box: var(--sg-text-color, var(--theme-code-foreground, var(--jp-content-font-color1, black)));\n",
              "  --sklearn-color-icon: #696969;\n",
              "\n",
              "  @media (prefers-color-scheme: dark) {\n",
              "    /* Redefinition of color scheme for dark theme */\n",
              "    --sklearn-color-text-on-default-background: var(--sg-text-color, var(--theme-code-foreground, var(--jp-content-font-color1, white)));\n",
              "    --sklearn-color-background: var(--sg-background-color, var(--theme-background, var(--jp-layout-color0, #111)));\n",
              "    --sklearn-color-border-box: var(--sg-text-color, var(--theme-code-foreground, var(--jp-content-font-color1, white)));\n",
              "    --sklearn-color-icon: #878787;\n",
              "  }\n",
              "}\n",
              "\n",
              "#sk-container-id-1 {\n",
              "  color: var(--sklearn-color-text);\n",
              "}\n",
              "\n",
              "#sk-container-id-1 pre {\n",
              "  padding: 0;\n",
              "}\n",
              "\n",
              "#sk-container-id-1 input.sk-hidden--visually {\n",
              "  border: 0;\n",
              "  clip: rect(1px 1px 1px 1px);\n",
              "  clip: rect(1px, 1px, 1px, 1px);\n",
              "  height: 1px;\n",
              "  margin: -1px;\n",
              "  overflow: hidden;\n",
              "  padding: 0;\n",
              "  position: absolute;\n",
              "  width: 1px;\n",
              "}\n",
              "\n",
              "#sk-container-id-1 div.sk-dashed-wrapped {\n",
              "  border: 1px dashed var(--sklearn-color-line);\n",
              "  margin: 0 0.4em 0.5em 0.4em;\n",
              "  box-sizing: border-box;\n",
              "  padding-bottom: 0.4em;\n",
              "  background-color: var(--sklearn-color-background);\n",
              "}\n",
              "\n",
              "#sk-container-id-1 div.sk-container {\n",
              "  /* jupyter's `normalize.less` sets `[hidden] { display: none; }`\n",
              "     but bootstrap.min.css set `[hidden] { display: none !important; }`\n",
              "     so we also need the `!important` here to be able to override the\n",
              "     default hidden behavior on the sphinx rendered scikit-learn.org.\n",
              "     See: https://github.com/scikit-learn/scikit-learn/issues/21755 */\n",
              "  display: inline-block !important;\n",
              "  position: relative;\n",
              "}\n",
              "\n",
              "#sk-container-id-1 div.sk-text-repr-fallback {\n",
              "  display: none;\n",
              "}\n",
              "\n",
              "div.sk-parallel-item,\n",
              "div.sk-serial,\n",
              "div.sk-item {\n",
              "  /* draw centered vertical line to link estimators */\n",
              "  background-image: linear-gradient(var(--sklearn-color-text-on-default-background), var(--sklearn-color-text-on-default-background));\n",
              "  background-size: 2px 100%;\n",
              "  background-repeat: no-repeat;\n",
              "  background-position: center center;\n",
              "}\n",
              "\n",
              "/* Parallel-specific style estimator block */\n",
              "\n",
              "#sk-container-id-1 div.sk-parallel-item::after {\n",
              "  content: \"\";\n",
              "  width: 100%;\n",
              "  border-bottom: 2px solid var(--sklearn-color-text-on-default-background);\n",
              "  flex-grow: 1;\n",
              "}\n",
              "\n",
              "#sk-container-id-1 div.sk-parallel {\n",
              "  display: flex;\n",
              "  align-items: stretch;\n",
              "  justify-content: center;\n",
              "  background-color: var(--sklearn-color-background);\n",
              "  position: relative;\n",
              "}\n",
              "\n",
              "#sk-container-id-1 div.sk-parallel-item {\n",
              "  display: flex;\n",
              "  flex-direction: column;\n",
              "}\n",
              "\n",
              "#sk-container-id-1 div.sk-parallel-item:first-child::after {\n",
              "  align-self: flex-end;\n",
              "  width: 50%;\n",
              "}\n",
              "\n",
              "#sk-container-id-1 div.sk-parallel-item:last-child::after {\n",
              "  align-self: flex-start;\n",
              "  width: 50%;\n",
              "}\n",
              "\n",
              "#sk-container-id-1 div.sk-parallel-item:only-child::after {\n",
              "  width: 0;\n",
              "}\n",
              "\n",
              "/* Serial-specific style estimator block */\n",
              "\n",
              "#sk-container-id-1 div.sk-serial {\n",
              "  display: flex;\n",
              "  flex-direction: column;\n",
              "  align-items: center;\n",
              "  background-color: var(--sklearn-color-background);\n",
              "  padding-right: 1em;\n",
              "  padding-left: 1em;\n",
              "}\n",
              "\n",
              "\n",
              "/* Toggleable style: style used for estimator/Pipeline/ColumnTransformer box that is\n",
              "clickable and can be expanded/collapsed.\n",
              "- Pipeline and ColumnTransformer use this feature and define the default style\n",
              "- Estimators will overwrite some part of the style using the `sk-estimator` class\n",
              "*/\n",
              "\n",
              "/* Pipeline and ColumnTransformer style (default) */\n",
              "\n",
              "#sk-container-id-1 div.sk-toggleable {\n",
              "  /* Default theme specific background. It is overwritten whether we have a\n",
              "  specific estimator or a Pipeline/ColumnTransformer */\n",
              "  background-color: var(--sklearn-color-background);\n",
              "}\n",
              "\n",
              "/* Toggleable label */\n",
              "#sk-container-id-1 label.sk-toggleable__label {\n",
              "  cursor: pointer;\n",
              "  display: block;\n",
              "  width: 100%;\n",
              "  margin-bottom: 0;\n",
              "  padding: 0.5em;\n",
              "  box-sizing: border-box;\n",
              "  text-align: center;\n",
              "}\n",
              "\n",
              "#sk-container-id-1 label.sk-toggleable__label-arrow:before {\n",
              "  /* Arrow on the left of the label */\n",
              "  content: \"▸\";\n",
              "  float: left;\n",
              "  margin-right: 0.25em;\n",
              "  color: var(--sklearn-color-icon);\n",
              "}\n",
              "\n",
              "#sk-container-id-1 label.sk-toggleable__label-arrow:hover:before {\n",
              "  color: var(--sklearn-color-text);\n",
              "}\n",
              "\n",
              "/* Toggleable content - dropdown */\n",
              "\n",
              "#sk-container-id-1 div.sk-toggleable__content {\n",
              "  max-height: 0;\n",
              "  max-width: 0;\n",
              "  overflow: hidden;\n",
              "  text-align: left;\n",
              "  /* unfitted */\n",
              "  background-color: var(--sklearn-color-unfitted-level-0);\n",
              "}\n",
              "\n",
              "#sk-container-id-1 div.sk-toggleable__content.fitted {\n",
              "  /* fitted */\n",
              "  background-color: var(--sklearn-color-fitted-level-0);\n",
              "}\n",
              "\n",
              "#sk-container-id-1 div.sk-toggleable__content pre {\n",
              "  margin: 0.2em;\n",
              "  border-radius: 0.25em;\n",
              "  color: var(--sklearn-color-text);\n",
              "  /* unfitted */\n",
              "  background-color: var(--sklearn-color-unfitted-level-0);\n",
              "}\n",
              "\n",
              "#sk-container-id-1 div.sk-toggleable__content.fitted pre {\n",
              "  /* unfitted */\n",
              "  background-color: var(--sklearn-color-fitted-level-0);\n",
              "}\n",
              "\n",
              "#sk-container-id-1 input.sk-toggleable__control:checked~div.sk-toggleable__content {\n",
              "  /* Expand drop-down */\n",
              "  max-height: 200px;\n",
              "  max-width: 100%;\n",
              "  overflow: auto;\n",
              "}\n",
              "\n",
              "#sk-container-id-1 input.sk-toggleable__control:checked~label.sk-toggleable__label-arrow:before {\n",
              "  content: \"▾\";\n",
              "}\n",
              "\n",
              "/* Pipeline/ColumnTransformer-specific style */\n",
              "\n",
              "#sk-container-id-1 div.sk-label input.sk-toggleable__control:checked~label.sk-toggleable__label {\n",
              "  color: var(--sklearn-color-text);\n",
              "  background-color: var(--sklearn-color-unfitted-level-2);\n",
              "}\n",
              "\n",
              "#sk-container-id-1 div.sk-label.fitted input.sk-toggleable__control:checked~label.sk-toggleable__label {\n",
              "  background-color: var(--sklearn-color-fitted-level-2);\n",
              "}\n",
              "\n",
              "/* Estimator-specific style */\n",
              "\n",
              "/* Colorize estimator box */\n",
              "#sk-container-id-1 div.sk-estimator input.sk-toggleable__control:checked~label.sk-toggleable__label {\n",
              "  /* unfitted */\n",
              "  background-color: var(--sklearn-color-unfitted-level-2);\n",
              "}\n",
              "\n",
              "#sk-container-id-1 div.sk-estimator.fitted input.sk-toggleable__control:checked~label.sk-toggleable__label {\n",
              "  /* fitted */\n",
              "  background-color: var(--sklearn-color-fitted-level-2);\n",
              "}\n",
              "\n",
              "#sk-container-id-1 div.sk-label label.sk-toggleable__label,\n",
              "#sk-container-id-1 div.sk-label label {\n",
              "  /* The background is the default theme color */\n",
              "  color: var(--sklearn-color-text-on-default-background);\n",
              "}\n",
              "\n",
              "/* On hover, darken the color of the background */\n",
              "#sk-container-id-1 div.sk-label:hover label.sk-toggleable__label {\n",
              "  color: var(--sklearn-color-text);\n",
              "  background-color: var(--sklearn-color-unfitted-level-2);\n",
              "}\n",
              "\n",
              "/* Label box, darken color on hover, fitted */\n",
              "#sk-container-id-1 div.sk-label.fitted:hover label.sk-toggleable__label.fitted {\n",
              "  color: var(--sklearn-color-text);\n",
              "  background-color: var(--sklearn-color-fitted-level-2);\n",
              "}\n",
              "\n",
              "/* Estimator label */\n",
              "\n",
              "#sk-container-id-1 div.sk-label label {\n",
              "  font-family: monospace;\n",
              "  font-weight: bold;\n",
              "  display: inline-block;\n",
              "  line-height: 1.2em;\n",
              "}\n",
              "\n",
              "#sk-container-id-1 div.sk-label-container {\n",
              "  text-align: center;\n",
              "}\n",
              "\n",
              "/* Estimator-specific */\n",
              "#sk-container-id-1 div.sk-estimator {\n",
              "  font-family: monospace;\n",
              "  border: 1px dotted var(--sklearn-color-border-box);\n",
              "  border-radius: 0.25em;\n",
              "  box-sizing: border-box;\n",
              "  margin-bottom: 0.5em;\n",
              "  /* unfitted */\n",
              "  background-color: var(--sklearn-color-unfitted-level-0);\n",
              "}\n",
              "\n",
              "#sk-container-id-1 div.sk-estimator.fitted {\n",
              "  /* fitted */\n",
              "  background-color: var(--sklearn-color-fitted-level-0);\n",
              "}\n",
              "\n",
              "/* on hover */\n",
              "#sk-container-id-1 div.sk-estimator:hover {\n",
              "  /* unfitted */\n",
              "  background-color: var(--sklearn-color-unfitted-level-2);\n",
              "}\n",
              "\n",
              "#sk-container-id-1 div.sk-estimator.fitted:hover {\n",
              "  /* fitted */\n",
              "  background-color: var(--sklearn-color-fitted-level-2);\n",
              "}\n",
              "\n",
              "/* Specification for estimator info (e.g. \"i\" and \"?\") */\n",
              "\n",
              "/* Common style for \"i\" and \"?\" */\n",
              "\n",
              ".sk-estimator-doc-link,\n",
              "a:link.sk-estimator-doc-link,\n",
              "a:visited.sk-estimator-doc-link {\n",
              "  float: right;\n",
              "  font-size: smaller;\n",
              "  line-height: 1em;\n",
              "  font-family: monospace;\n",
              "  background-color: var(--sklearn-color-background);\n",
              "  border-radius: 1em;\n",
              "  height: 1em;\n",
              "  width: 1em;\n",
              "  text-decoration: none !important;\n",
              "  margin-left: 1ex;\n",
              "  /* unfitted */\n",
              "  border: var(--sklearn-color-unfitted-level-1) 1pt solid;\n",
              "  color: var(--sklearn-color-unfitted-level-1);\n",
              "}\n",
              "\n",
              ".sk-estimator-doc-link.fitted,\n",
              "a:link.sk-estimator-doc-link.fitted,\n",
              "a:visited.sk-estimator-doc-link.fitted {\n",
              "  /* fitted */\n",
              "  border: var(--sklearn-color-fitted-level-1) 1pt solid;\n",
              "  color: var(--sklearn-color-fitted-level-1);\n",
              "}\n",
              "\n",
              "/* On hover */\n",
              "div.sk-estimator:hover .sk-estimator-doc-link:hover,\n",
              ".sk-estimator-doc-link:hover,\n",
              "div.sk-label-container:hover .sk-estimator-doc-link:hover,\n",
              ".sk-estimator-doc-link:hover {\n",
              "  /* unfitted */\n",
              "  background-color: var(--sklearn-color-unfitted-level-3);\n",
              "  color: var(--sklearn-color-background);\n",
              "  text-decoration: none;\n",
              "}\n",
              "\n",
              "div.sk-estimator.fitted:hover .sk-estimator-doc-link.fitted:hover,\n",
              ".sk-estimator-doc-link.fitted:hover,\n",
              "div.sk-label-container:hover .sk-estimator-doc-link.fitted:hover,\n",
              ".sk-estimator-doc-link.fitted:hover {\n",
              "  /* fitted */\n",
              "  background-color: var(--sklearn-color-fitted-level-3);\n",
              "  color: var(--sklearn-color-background);\n",
              "  text-decoration: none;\n",
              "}\n",
              "\n",
              "/* Span, style for the box shown on hovering the info icon */\n",
              ".sk-estimator-doc-link span {\n",
              "  display: none;\n",
              "  z-index: 9999;\n",
              "  position: relative;\n",
              "  font-weight: normal;\n",
              "  right: .2ex;\n",
              "  padding: .5ex;\n",
              "  margin: .5ex;\n",
              "  width: min-content;\n",
              "  min-width: 20ex;\n",
              "  max-width: 50ex;\n",
              "  color: var(--sklearn-color-text);\n",
              "  box-shadow: 2pt 2pt 4pt #999;\n",
              "  /* unfitted */\n",
              "  background: var(--sklearn-color-unfitted-level-0);\n",
              "  border: .5pt solid var(--sklearn-color-unfitted-level-3);\n",
              "}\n",
              "\n",
              ".sk-estimator-doc-link.fitted span {\n",
              "  /* fitted */\n",
              "  background: var(--sklearn-color-fitted-level-0);\n",
              "  border: var(--sklearn-color-fitted-level-3);\n",
              "}\n",
              "\n",
              ".sk-estimator-doc-link:hover span {\n",
              "  display: block;\n",
              "}\n",
              "\n",
              "/* \"?\"-specific style due to the `<a>` HTML tag */\n",
              "\n",
              "#sk-container-id-1 a.estimator_doc_link {\n",
              "  float: right;\n",
              "  font-size: 1rem;\n",
              "  line-height: 1em;\n",
              "  font-family: monospace;\n",
              "  background-color: var(--sklearn-color-background);\n",
              "  border-radius: 1rem;\n",
              "  height: 1rem;\n",
              "  width: 1rem;\n",
              "  text-decoration: none;\n",
              "  /* unfitted */\n",
              "  color: var(--sklearn-color-unfitted-level-1);\n",
              "  border: var(--sklearn-color-unfitted-level-1) 1pt solid;\n",
              "}\n",
              "\n",
              "#sk-container-id-1 a.estimator_doc_link.fitted {\n",
              "  /* fitted */\n",
              "  border: var(--sklearn-color-fitted-level-1) 1pt solid;\n",
              "  color: var(--sklearn-color-fitted-level-1);\n",
              "}\n",
              "\n",
              "/* On hover */\n",
              "#sk-container-id-1 a.estimator_doc_link:hover {\n",
              "  /* unfitted */\n",
              "  background-color: var(--sklearn-color-unfitted-level-3);\n",
              "  color: var(--sklearn-color-background);\n",
              "  text-decoration: none;\n",
              "}\n",
              "\n",
              "#sk-container-id-1 a.estimator_doc_link.fitted:hover {\n",
              "  /* fitted */\n",
              "  background-color: var(--sklearn-color-fitted-level-3);\n",
              "}\n",
              "</style><div id=\"sk-container-id-1\" class=\"sk-top-container\"><div class=\"sk-text-repr-fallback\"><pre>RandomizedSearchCV(cv=5,\n",
              "                   estimator=DecisionTreeClassifier(criterion=&#x27;entropy&#x27;,\n",
              "                                                    max_depth=5),\n",
              "                   n_iter=20, n_jobs=-1,\n",
              "                   param_distributions={&#x27;criterion&#x27;: [&#x27;gini&#x27;, &#x27;entropy&#x27;],\n",
              "                                        &#x27;max_depth&#x27;: &lt;scipy.stats._distn_infrastructure.rv_discrete_frozen object at 0x000002D0E0E32660&gt;,\n",
              "                                        &#x27;min_samples_leaf&#x27;: [1, 2, 3, 4, 5],\n",
              "                                        &#x27;min_samples_split&#x27;: &lt;scipy.stats._distn_infrastructure.rv_discrete_frozen object at 0x000002D0E46683B0&gt;})</pre><b>In a Jupyter environment, please rerun this cell to show the HTML representation or trust the notebook. <br />On GitHub, the HTML representation is unable to render, please try loading this page with nbviewer.org.</b></div><div class=\"sk-container\" hidden><div class=\"sk-item sk-dashed-wrapped\"><div class=\"sk-label-container\"><div class=\"sk-label fitted sk-toggleable\"><input class=\"sk-toggleable__control sk-hidden--visually\" id=\"sk-estimator-id-1\" type=\"checkbox\" ><label for=\"sk-estimator-id-1\" class=\"sk-toggleable__label fitted sk-toggleable__label-arrow fitted\">&nbsp;&nbsp;RandomizedSearchCV<a class=\"sk-estimator-doc-link fitted\" rel=\"noreferrer\" target=\"_blank\" href=\"https://scikit-learn.org/1.5/modules/generated/sklearn.model_selection.RandomizedSearchCV.html\">?<span>Documentation for RandomizedSearchCV</span></a><span class=\"sk-estimator-doc-link fitted\">i<span>Fitted</span></span></label><div class=\"sk-toggleable__content fitted\"><pre>RandomizedSearchCV(cv=5,\n",
              "                   estimator=DecisionTreeClassifier(criterion=&#x27;entropy&#x27;,\n",
              "                                                    max_depth=5),\n",
              "                   n_iter=20, n_jobs=-1,\n",
              "                   param_distributions={&#x27;criterion&#x27;: [&#x27;gini&#x27;, &#x27;entropy&#x27;],\n",
              "                                        &#x27;max_depth&#x27;: &lt;scipy.stats._distn_infrastructure.rv_discrete_frozen object at 0x000002D0E0E32660&gt;,\n",
              "                                        &#x27;min_samples_leaf&#x27;: [1, 2, 3, 4, 5],\n",
              "                                        &#x27;min_samples_split&#x27;: &lt;scipy.stats._distn_infrastructure.rv_discrete_frozen object at 0x000002D0E46683B0&gt;})</pre></div> </div></div><div class=\"sk-parallel\"><div class=\"sk-parallel-item\"><div class=\"sk-item\"><div class=\"sk-label-container\"><div class=\"sk-label fitted sk-toggleable\"><input class=\"sk-toggleable__control sk-hidden--visually\" id=\"sk-estimator-id-2\" type=\"checkbox\" ><label for=\"sk-estimator-id-2\" class=\"sk-toggleable__label fitted sk-toggleable__label-arrow fitted\">best_estimator_: DecisionTreeClassifier</label><div class=\"sk-toggleable__content fitted\"><pre>DecisionTreeClassifier(max_depth=9, min_samples_leaf=5, min_samples_split=6)</pre></div> </div></div><div class=\"sk-serial\"><div class=\"sk-item\"><div class=\"sk-estimator fitted sk-toggleable\"><input class=\"sk-toggleable__control sk-hidden--visually\" id=\"sk-estimator-id-3\" type=\"checkbox\" ><label for=\"sk-estimator-id-3\" class=\"sk-toggleable__label fitted sk-toggleable__label-arrow fitted\">&nbsp;DecisionTreeClassifier<a class=\"sk-estimator-doc-link fitted\" rel=\"noreferrer\" target=\"_blank\" href=\"https://scikit-learn.org/1.5/modules/generated/sklearn.tree.DecisionTreeClassifier.html\">?<span>Documentation for DecisionTreeClassifier</span></a></label><div class=\"sk-toggleable__content fitted\"><pre>DecisionTreeClassifier(max_depth=9, min_samples_leaf=5, min_samples_split=6)</pre></div> </div></div></div></div></div></div></div></div></div>"
            ],
            "text/plain": [
              "RandomizedSearchCV(cv=5,\n",
              "                   estimator=DecisionTreeClassifier(criterion='entropy',\n",
              "                                                    max_depth=5),\n",
              "                   n_iter=20, n_jobs=-1,\n",
              "                   param_distributions={'criterion': ['gini', 'entropy'],\n",
              "                                        'max_depth': <scipy.stats._distn_infrastructure.rv_discrete_frozen object at 0x000002D0E0E32660>,\n",
              "                                        'min_samples_leaf': [1, 2, 3, 4, 5],\n",
              "                                        'min_samples_split': <scipy.stats._distn_infrastructure.rv_discrete_frozen object at 0x000002D0E46683B0>})"
            ]
          },
          "execution_count": 43,
          "metadata": {},
          "output_type": "execute_result"
        }
      ],
      "source": [
        "from sklearn.tree import DecisionTreeClassifier\n",
        "dt = DecisionTreeClassifier(criterion = 'entropy', max_depth=5)\n",
        "\n",
        "parameters = {'max_depth': randint(2, 10), 'min_samples_split': randint(2, 10), 'min_samples_leaf': [1, 2, 3, 4, 5], 'criterion': ['gini', 'entropy']}\n",
        "\n",
        "random_search = RandomizedSearchCV(dt, param_distributions=parameters, n_iter=20, cv=5, n_jobs=-1)\n",
        "random_search.fit(X_train, y_train)\n",
        "# best_accuracy = random_search.best_score_\n",
        "# best_parameters = random_search.best_params_\n",
        "\n",
        "# print(\"Best Accuracy: {:.2f} %\".format(best_accuracy*100))\n",
        "# print(\"Best Parameters:\", best_parameters)"
      ]
    },
    {
      "cell_type": "code",
      "execution_count": 44,
      "id": "eb9b4a89",
      "metadata": {
        "execution": {
          "iopub.execute_input": "2023-09-23T20:51:30.550122Z",
          "iopub.status.busy": "2023-09-23T20:51:30.549730Z",
          "iopub.status.idle": "2023-09-23T20:51:34.138700Z",
          "shell.execute_reply": "2023-09-23T20:51:34.136443Z"
        },
        "id": "eb9b4a89",
        "outputId": "f62553d4-0729-4ab3-e9ee-c907cd95b8a5",
        "papermill": {
          "duration": 4.55734,
          "end_time": "2023-09-23T20:51:34.141088",
          "exception": false,
          "start_time": "2023-09-23T20:51:29.583748",
          "status": "completed"
        },
        "tags": []
      },
      "outputs": [
        {
          "name": "stdout",
          "output_type": "stream",
          "text": [
            "Accuracy on Training set:  0.9598268244904764\n",
            "Accuracy on Testing set:  0.9597801453541379\n"
          ]
        }
      ],
      "source": [
        "from sklearn import metrics\n",
        "# dt = DecisionTreeClassifier(**random_search.best_params_)\n",
        "dt.fit(X_train,y_train)\n",
        "\n",
        "# Predicting Train & Test Results\n",
        "y_dt = dt.predict(X_train)\n",
        "y_pred_dt = dt.predict(X_test)\n",
        "\n",
        "# Accuracy\n",
        "print(\"Accuracy on Training set: \",metrics.accuracy_score(y_train, y_dt))\n",
        "print(\"Accuracy on Testing set: \",metrics.accuracy_score(y_test, y_pred_dt))"
      ]
    },
    {
      "cell_type": "code",
      "execution_count": 45,
      "id": "95a9e5b9",
      "metadata": {
        "execution": {
          "iopub.execute_input": "2023-09-23T20:51:35.969285Z",
          "iopub.status.busy": "2023-09-23T20:51:35.968868Z",
          "iopub.status.idle": "2023-09-23T20:51:35.990722Z",
          "shell.execute_reply": "2023-09-23T20:51:35.989635Z"
        },
        "id": "95a9e5b9",
        "outputId": "7c758f0a-2181-4ee8-cd9b-d34e7cd68907",
        "papermill": {
          "duration": 0.964605,
          "end_time": "2023-09-23T20:51:35.993041",
          "exception": false,
          "start_time": "2023-09-23T20:51:35.028436",
          "status": "completed"
        },
        "tags": []
      },
      "outputs": [
        {
          "name": "stdout",
          "output_type": "stream",
          "text": [
            "767776\n",
            "Malicious: 767776\n",
            "Outliers: 1535552\n",
            "Benign: 0\n"
          ]
        }
      ],
      "source": [
        "print(len(y_dt))\n",
        "print(f\"Malicious: {len(y_dt[y_dt==1])}\")\n",
        "print(f\"Outliers: {len(y_dt[y_dt==0])}\")\n",
        "print(f\"Benign: {len(y_dt[y_dt==2])}\")"
      ]
    },
    {
      "cell_type": "markdown",
      "id": "d836f80b",
      "metadata": {
        "id": "d836f80b",
        "papermill": {
          "duration": 0.871505,
          "end_time": "2023-09-23T20:51:37.743128",
          "exception": false,
          "start_time": "2023-09-23T20:51:36.871623",
          "status": "completed"
        },
        "tags": []
      },
      "source": [
        "# Random Forest Classifier"
      ]
    },
    {
      "cell_type": "code",
      "execution_count": 46,
      "id": "ad9b5a75",
      "metadata": {
        "execution": {
          "iopub.execute_input": "2023-09-23T20:51:39.637478Z",
          "iopub.status.busy": "2023-09-23T20:51:39.637095Z",
          "iopub.status.idle": "2023-09-23T20:52:45.090445Z",
          "shell.execute_reply": "2023-09-23T20:52:45.089446Z"
        },
        "id": "ad9b5a75",
        "outputId": "6f212ce7-27d7-4ff8-961a-65a1daec1e38",
        "papermill": {
          "duration": 67.21317,
          "end_time": "2023-09-23T20:52:45.953401",
          "exception": false,
          "start_time": "2023-09-23T20:51:38.740231",
          "status": "completed"
        },
        "tags": []
      },
      "outputs": [
        {
          "data": {
            "text/html": [
              "<style>#sk-container-id-2 {\n",
              "  /* Definition of color scheme common for light and dark mode */\n",
              "  --sklearn-color-text: black;\n",
              "  --sklearn-color-line: gray;\n",
              "  /* Definition of color scheme for unfitted estimators */\n",
              "  --sklearn-color-unfitted-level-0: #fff5e6;\n",
              "  --sklearn-color-unfitted-level-1: #f6e4d2;\n",
              "  --sklearn-color-unfitted-level-2: #ffe0b3;\n",
              "  --sklearn-color-unfitted-level-3: chocolate;\n",
              "  /* Definition of color scheme for fitted estimators */\n",
              "  --sklearn-color-fitted-level-0: #f0f8ff;\n",
              "  --sklearn-color-fitted-level-1: #d4ebff;\n",
              "  --sklearn-color-fitted-level-2: #b3dbfd;\n",
              "  --sklearn-color-fitted-level-3: cornflowerblue;\n",
              "\n",
              "  /* Specific color for light theme */\n",
              "  --sklearn-color-text-on-default-background: var(--sg-text-color, var(--theme-code-foreground, var(--jp-content-font-color1, black)));\n",
              "  --sklearn-color-background: var(--sg-background-color, var(--theme-background, var(--jp-layout-color0, white)));\n",
              "  --sklearn-color-border-box: var(--sg-text-color, var(--theme-code-foreground, var(--jp-content-font-color1, black)));\n",
              "  --sklearn-color-icon: #696969;\n",
              "\n",
              "  @media (prefers-color-scheme: dark) {\n",
              "    /* Redefinition of color scheme for dark theme */\n",
              "    --sklearn-color-text-on-default-background: var(--sg-text-color, var(--theme-code-foreground, var(--jp-content-font-color1, white)));\n",
              "    --sklearn-color-background: var(--sg-background-color, var(--theme-background, var(--jp-layout-color0, #111)));\n",
              "    --sklearn-color-border-box: var(--sg-text-color, var(--theme-code-foreground, var(--jp-content-font-color1, white)));\n",
              "    --sklearn-color-icon: #878787;\n",
              "  }\n",
              "}\n",
              "\n",
              "#sk-container-id-2 {\n",
              "  color: var(--sklearn-color-text);\n",
              "}\n",
              "\n",
              "#sk-container-id-2 pre {\n",
              "  padding: 0;\n",
              "}\n",
              "\n",
              "#sk-container-id-2 input.sk-hidden--visually {\n",
              "  border: 0;\n",
              "  clip: rect(1px 1px 1px 1px);\n",
              "  clip: rect(1px, 1px, 1px, 1px);\n",
              "  height: 1px;\n",
              "  margin: -1px;\n",
              "  overflow: hidden;\n",
              "  padding: 0;\n",
              "  position: absolute;\n",
              "  width: 1px;\n",
              "}\n",
              "\n",
              "#sk-container-id-2 div.sk-dashed-wrapped {\n",
              "  border: 1px dashed var(--sklearn-color-line);\n",
              "  margin: 0 0.4em 0.5em 0.4em;\n",
              "  box-sizing: border-box;\n",
              "  padding-bottom: 0.4em;\n",
              "  background-color: var(--sklearn-color-background);\n",
              "}\n",
              "\n",
              "#sk-container-id-2 div.sk-container {\n",
              "  /* jupyter's `normalize.less` sets `[hidden] { display: none; }`\n",
              "     but bootstrap.min.css set `[hidden] { display: none !important; }`\n",
              "     so we also need the `!important` here to be able to override the\n",
              "     default hidden behavior on the sphinx rendered scikit-learn.org.\n",
              "     See: https://github.com/scikit-learn/scikit-learn/issues/21755 */\n",
              "  display: inline-block !important;\n",
              "  position: relative;\n",
              "}\n",
              "\n",
              "#sk-container-id-2 div.sk-text-repr-fallback {\n",
              "  display: none;\n",
              "}\n",
              "\n",
              "div.sk-parallel-item,\n",
              "div.sk-serial,\n",
              "div.sk-item {\n",
              "  /* draw centered vertical line to link estimators */\n",
              "  background-image: linear-gradient(var(--sklearn-color-text-on-default-background), var(--sklearn-color-text-on-default-background));\n",
              "  background-size: 2px 100%;\n",
              "  background-repeat: no-repeat;\n",
              "  background-position: center center;\n",
              "}\n",
              "\n",
              "/* Parallel-specific style estimator block */\n",
              "\n",
              "#sk-container-id-2 div.sk-parallel-item::after {\n",
              "  content: \"\";\n",
              "  width: 100%;\n",
              "  border-bottom: 2px solid var(--sklearn-color-text-on-default-background);\n",
              "  flex-grow: 1;\n",
              "}\n",
              "\n",
              "#sk-container-id-2 div.sk-parallel {\n",
              "  display: flex;\n",
              "  align-items: stretch;\n",
              "  justify-content: center;\n",
              "  background-color: var(--sklearn-color-background);\n",
              "  position: relative;\n",
              "}\n",
              "\n",
              "#sk-container-id-2 div.sk-parallel-item {\n",
              "  display: flex;\n",
              "  flex-direction: column;\n",
              "}\n",
              "\n",
              "#sk-container-id-2 div.sk-parallel-item:first-child::after {\n",
              "  align-self: flex-end;\n",
              "  width: 50%;\n",
              "}\n",
              "\n",
              "#sk-container-id-2 div.sk-parallel-item:last-child::after {\n",
              "  align-self: flex-start;\n",
              "  width: 50%;\n",
              "}\n",
              "\n",
              "#sk-container-id-2 div.sk-parallel-item:only-child::after {\n",
              "  width: 0;\n",
              "}\n",
              "\n",
              "/* Serial-specific style estimator block */\n",
              "\n",
              "#sk-container-id-2 div.sk-serial {\n",
              "  display: flex;\n",
              "  flex-direction: column;\n",
              "  align-items: center;\n",
              "  background-color: var(--sklearn-color-background);\n",
              "  padding-right: 1em;\n",
              "  padding-left: 1em;\n",
              "}\n",
              "\n",
              "\n",
              "/* Toggleable style: style used for estimator/Pipeline/ColumnTransformer box that is\n",
              "clickable and can be expanded/collapsed.\n",
              "- Pipeline and ColumnTransformer use this feature and define the default style\n",
              "- Estimators will overwrite some part of the style using the `sk-estimator` class\n",
              "*/\n",
              "\n",
              "/* Pipeline and ColumnTransformer style (default) */\n",
              "\n",
              "#sk-container-id-2 div.sk-toggleable {\n",
              "  /* Default theme specific background. It is overwritten whether we have a\n",
              "  specific estimator or a Pipeline/ColumnTransformer */\n",
              "  background-color: var(--sklearn-color-background);\n",
              "}\n",
              "\n",
              "/* Toggleable label */\n",
              "#sk-container-id-2 label.sk-toggleable__label {\n",
              "  cursor: pointer;\n",
              "  display: block;\n",
              "  width: 100%;\n",
              "  margin-bottom: 0;\n",
              "  padding: 0.5em;\n",
              "  box-sizing: border-box;\n",
              "  text-align: center;\n",
              "}\n",
              "\n",
              "#sk-container-id-2 label.sk-toggleable__label-arrow:before {\n",
              "  /* Arrow on the left of the label */\n",
              "  content: \"▸\";\n",
              "  float: left;\n",
              "  margin-right: 0.25em;\n",
              "  color: var(--sklearn-color-icon);\n",
              "}\n",
              "\n",
              "#sk-container-id-2 label.sk-toggleable__label-arrow:hover:before {\n",
              "  color: var(--sklearn-color-text);\n",
              "}\n",
              "\n",
              "/* Toggleable content - dropdown */\n",
              "\n",
              "#sk-container-id-2 div.sk-toggleable__content {\n",
              "  max-height: 0;\n",
              "  max-width: 0;\n",
              "  overflow: hidden;\n",
              "  text-align: left;\n",
              "  /* unfitted */\n",
              "  background-color: var(--sklearn-color-unfitted-level-0);\n",
              "}\n",
              "\n",
              "#sk-container-id-2 div.sk-toggleable__content.fitted {\n",
              "  /* fitted */\n",
              "  background-color: var(--sklearn-color-fitted-level-0);\n",
              "}\n",
              "\n",
              "#sk-container-id-2 div.sk-toggleable__content pre {\n",
              "  margin: 0.2em;\n",
              "  border-radius: 0.25em;\n",
              "  color: var(--sklearn-color-text);\n",
              "  /* unfitted */\n",
              "  background-color: var(--sklearn-color-unfitted-level-0);\n",
              "}\n",
              "\n",
              "#sk-container-id-2 div.sk-toggleable__content.fitted pre {\n",
              "  /* unfitted */\n",
              "  background-color: var(--sklearn-color-fitted-level-0);\n",
              "}\n",
              "\n",
              "#sk-container-id-2 input.sk-toggleable__control:checked~div.sk-toggleable__content {\n",
              "  /* Expand drop-down */\n",
              "  max-height: 200px;\n",
              "  max-width: 100%;\n",
              "  overflow: auto;\n",
              "}\n",
              "\n",
              "#sk-container-id-2 input.sk-toggleable__control:checked~label.sk-toggleable__label-arrow:before {\n",
              "  content: \"▾\";\n",
              "}\n",
              "\n",
              "/* Pipeline/ColumnTransformer-specific style */\n",
              "\n",
              "#sk-container-id-2 div.sk-label input.sk-toggleable__control:checked~label.sk-toggleable__label {\n",
              "  color: var(--sklearn-color-text);\n",
              "  background-color: var(--sklearn-color-unfitted-level-2);\n",
              "}\n",
              "\n",
              "#sk-container-id-2 div.sk-label.fitted input.sk-toggleable__control:checked~label.sk-toggleable__label {\n",
              "  background-color: var(--sklearn-color-fitted-level-2);\n",
              "}\n",
              "\n",
              "/* Estimator-specific style */\n",
              "\n",
              "/* Colorize estimator box */\n",
              "#sk-container-id-2 div.sk-estimator input.sk-toggleable__control:checked~label.sk-toggleable__label {\n",
              "  /* unfitted */\n",
              "  background-color: var(--sklearn-color-unfitted-level-2);\n",
              "}\n",
              "\n",
              "#sk-container-id-2 div.sk-estimator.fitted input.sk-toggleable__control:checked~label.sk-toggleable__label {\n",
              "  /* fitted */\n",
              "  background-color: var(--sklearn-color-fitted-level-2);\n",
              "}\n",
              "\n",
              "#sk-container-id-2 div.sk-label label.sk-toggleable__label,\n",
              "#sk-container-id-2 div.sk-label label {\n",
              "  /* The background is the default theme color */\n",
              "  color: var(--sklearn-color-text-on-default-background);\n",
              "}\n",
              "\n",
              "/* On hover, darken the color of the background */\n",
              "#sk-container-id-2 div.sk-label:hover label.sk-toggleable__label {\n",
              "  color: var(--sklearn-color-text);\n",
              "  background-color: var(--sklearn-color-unfitted-level-2);\n",
              "}\n",
              "\n",
              "/* Label box, darken color on hover, fitted */\n",
              "#sk-container-id-2 div.sk-label.fitted:hover label.sk-toggleable__label.fitted {\n",
              "  color: var(--sklearn-color-text);\n",
              "  background-color: var(--sklearn-color-fitted-level-2);\n",
              "}\n",
              "\n",
              "/* Estimator label */\n",
              "\n",
              "#sk-container-id-2 div.sk-label label {\n",
              "  font-family: monospace;\n",
              "  font-weight: bold;\n",
              "  display: inline-block;\n",
              "  line-height: 1.2em;\n",
              "}\n",
              "\n",
              "#sk-container-id-2 div.sk-label-container {\n",
              "  text-align: center;\n",
              "}\n",
              "\n",
              "/* Estimator-specific */\n",
              "#sk-container-id-2 div.sk-estimator {\n",
              "  font-family: monospace;\n",
              "  border: 1px dotted var(--sklearn-color-border-box);\n",
              "  border-radius: 0.25em;\n",
              "  box-sizing: border-box;\n",
              "  margin-bottom: 0.5em;\n",
              "  /* unfitted */\n",
              "  background-color: var(--sklearn-color-unfitted-level-0);\n",
              "}\n",
              "\n",
              "#sk-container-id-2 div.sk-estimator.fitted {\n",
              "  /* fitted */\n",
              "  background-color: var(--sklearn-color-fitted-level-0);\n",
              "}\n",
              "\n",
              "/* on hover */\n",
              "#sk-container-id-2 div.sk-estimator:hover {\n",
              "  /* unfitted */\n",
              "  background-color: var(--sklearn-color-unfitted-level-2);\n",
              "}\n",
              "\n",
              "#sk-container-id-2 div.sk-estimator.fitted:hover {\n",
              "  /* fitted */\n",
              "  background-color: var(--sklearn-color-fitted-level-2);\n",
              "}\n",
              "\n",
              "/* Specification for estimator info (e.g. \"i\" and \"?\") */\n",
              "\n",
              "/* Common style for \"i\" and \"?\" */\n",
              "\n",
              ".sk-estimator-doc-link,\n",
              "a:link.sk-estimator-doc-link,\n",
              "a:visited.sk-estimator-doc-link {\n",
              "  float: right;\n",
              "  font-size: smaller;\n",
              "  line-height: 1em;\n",
              "  font-family: monospace;\n",
              "  background-color: var(--sklearn-color-background);\n",
              "  border-radius: 1em;\n",
              "  height: 1em;\n",
              "  width: 1em;\n",
              "  text-decoration: none !important;\n",
              "  margin-left: 1ex;\n",
              "  /* unfitted */\n",
              "  border: var(--sklearn-color-unfitted-level-1) 1pt solid;\n",
              "  color: var(--sklearn-color-unfitted-level-1);\n",
              "}\n",
              "\n",
              ".sk-estimator-doc-link.fitted,\n",
              "a:link.sk-estimator-doc-link.fitted,\n",
              "a:visited.sk-estimator-doc-link.fitted {\n",
              "  /* fitted */\n",
              "  border: var(--sklearn-color-fitted-level-1) 1pt solid;\n",
              "  color: var(--sklearn-color-fitted-level-1);\n",
              "}\n",
              "\n",
              "/* On hover */\n",
              "div.sk-estimator:hover .sk-estimator-doc-link:hover,\n",
              ".sk-estimator-doc-link:hover,\n",
              "div.sk-label-container:hover .sk-estimator-doc-link:hover,\n",
              ".sk-estimator-doc-link:hover {\n",
              "  /* unfitted */\n",
              "  background-color: var(--sklearn-color-unfitted-level-3);\n",
              "  color: var(--sklearn-color-background);\n",
              "  text-decoration: none;\n",
              "}\n",
              "\n",
              "div.sk-estimator.fitted:hover .sk-estimator-doc-link.fitted:hover,\n",
              ".sk-estimator-doc-link.fitted:hover,\n",
              "div.sk-label-container:hover .sk-estimator-doc-link.fitted:hover,\n",
              ".sk-estimator-doc-link.fitted:hover {\n",
              "  /* fitted */\n",
              "  background-color: var(--sklearn-color-fitted-level-3);\n",
              "  color: var(--sklearn-color-background);\n",
              "  text-decoration: none;\n",
              "}\n",
              "\n",
              "/* Span, style for the box shown on hovering the info icon */\n",
              ".sk-estimator-doc-link span {\n",
              "  display: none;\n",
              "  z-index: 9999;\n",
              "  position: relative;\n",
              "  font-weight: normal;\n",
              "  right: .2ex;\n",
              "  padding: .5ex;\n",
              "  margin: .5ex;\n",
              "  width: min-content;\n",
              "  min-width: 20ex;\n",
              "  max-width: 50ex;\n",
              "  color: var(--sklearn-color-text);\n",
              "  box-shadow: 2pt 2pt 4pt #999;\n",
              "  /* unfitted */\n",
              "  background: var(--sklearn-color-unfitted-level-0);\n",
              "  border: .5pt solid var(--sklearn-color-unfitted-level-3);\n",
              "}\n",
              "\n",
              ".sk-estimator-doc-link.fitted span {\n",
              "  /* fitted */\n",
              "  background: var(--sklearn-color-fitted-level-0);\n",
              "  border: var(--sklearn-color-fitted-level-3);\n",
              "}\n",
              "\n",
              ".sk-estimator-doc-link:hover span {\n",
              "  display: block;\n",
              "}\n",
              "\n",
              "/* \"?\"-specific style due to the `<a>` HTML tag */\n",
              "\n",
              "#sk-container-id-2 a.estimator_doc_link {\n",
              "  float: right;\n",
              "  font-size: 1rem;\n",
              "  line-height: 1em;\n",
              "  font-family: monospace;\n",
              "  background-color: var(--sklearn-color-background);\n",
              "  border-radius: 1rem;\n",
              "  height: 1rem;\n",
              "  width: 1rem;\n",
              "  text-decoration: none;\n",
              "  /* unfitted */\n",
              "  color: var(--sklearn-color-unfitted-level-1);\n",
              "  border: var(--sklearn-color-unfitted-level-1) 1pt solid;\n",
              "}\n",
              "\n",
              "#sk-container-id-2 a.estimator_doc_link.fitted {\n",
              "  /* fitted */\n",
              "  border: var(--sklearn-color-fitted-level-1) 1pt solid;\n",
              "  color: var(--sklearn-color-fitted-level-1);\n",
              "}\n",
              "\n",
              "/* On hover */\n",
              "#sk-container-id-2 a.estimator_doc_link:hover {\n",
              "  /* unfitted */\n",
              "  background-color: var(--sklearn-color-unfitted-level-3);\n",
              "  color: var(--sklearn-color-background);\n",
              "  text-decoration: none;\n",
              "}\n",
              "\n",
              "#sk-container-id-2 a.estimator_doc_link.fitted:hover {\n",
              "  /* fitted */\n",
              "  background-color: var(--sklearn-color-fitted-level-3);\n",
              "}\n",
              "</style><div id=\"sk-container-id-2\" class=\"sk-top-container\"><div class=\"sk-text-repr-fallback\"><pre>RandomForestClassifier(n_estimators=40)</pre><b>In a Jupyter environment, please rerun this cell to show the HTML representation or trust the notebook. <br />On GitHub, the HTML representation is unable to render, please try loading this page with nbviewer.org.</b></div><div class=\"sk-container\" hidden><div class=\"sk-item\"><div class=\"sk-estimator fitted sk-toggleable\"><input class=\"sk-toggleable__control sk-hidden--visually\" id=\"sk-estimator-id-4\" type=\"checkbox\" checked><label for=\"sk-estimator-id-4\" class=\"sk-toggleable__label fitted sk-toggleable__label-arrow fitted\">&nbsp;&nbsp;RandomForestClassifier<a class=\"sk-estimator-doc-link fitted\" rel=\"noreferrer\" target=\"_blank\" href=\"https://scikit-learn.org/1.5/modules/generated/sklearn.ensemble.RandomForestClassifier.html\">?<span>Documentation for RandomForestClassifier</span></a><span class=\"sk-estimator-doc-link fitted\">i<span>Fitted</span></span></label><div class=\"sk-toggleable__content fitted\"><pre>RandomForestClassifier(n_estimators=40)</pre></div> </div></div></div></div>"
            ],
            "text/plain": [
              "RandomForestClassifier(n_estimators=40)"
            ]
          },
          "execution_count": 46,
          "metadata": {},
          "output_type": "execute_result"
        }
      ],
      "source": [
        "from sklearn.ensemble import RandomForestClassifier\n",
        "rf = RandomForestClassifier(n_estimators=40)\n",
        "\n",
        "parameters = {'n_estimators': randint(50, 100), 'max_depth': randint(2, 8), 'min_samples_split': randint(2, 10),\n",
        "              'min_samples_leaf': randint(1, 10), 'max_features': ['sqrt', 'log2', None]}\n",
        "\n",
        "# random_search = RandomizedSearchCV(rf, n_iter=20, cv=5, n_jobs=-1)\n",
        "rf.fit(X_train, y_train)\n",
        "# best_accuracy = rf.accuracy\n",
        "# best_parameters = rf.best_params_\n",
        "\n",
        "# print(\"Best Accuracy: {:.2f} %\".format(best_accuracy*100))\n",
        "# print(\"Best Parameters:\", best_parameters)"
      ]
    },
    {
      "cell_type": "code",
      "execution_count": 47,
      "id": "2e758f42",
      "metadata": {
        "execution": {
          "iopub.execute_input": "2023-09-23T20:52:47.800039Z",
          "iopub.status.busy": "2023-09-23T20:52:47.799659Z",
          "iopub.status.idle": "2023-09-23T20:52:52.641006Z",
          "shell.execute_reply": "2023-09-23T20:52:52.639944Z"
        },
        "id": "2e758f42",
        "outputId": "a96f6a76-d565-4e62-991f-58c4311ee775",
        "papermill": {
          "duration": 5.736661,
          "end_time": "2023-09-23T20:52:52.644026",
          "exception": false,
          "start_time": "2023-09-23T20:52:46.907365",
          "status": "completed"
        },
        "tags": []
      },
      "outputs": [
        {
          "name": "stdout",
          "output_type": "stream",
          "text": [
            "Accuracy on Training set:  0.9999153398908015\n",
            "Accuracy on Testing set:  0.9913308499830681\n"
          ]
        }
      ],
      "source": [
        "# best_rf = RandomForestClassifier(rf)\n",
        "# best_rf.fit(X_train, y_train)\n",
        "\n",
        "# Predicting Train & Test Results\n",
        "y_rf = rf.predict(X_train)\n",
        "y_pred_rf = rf.predict(X_test)\n",
        "\n",
        "# Accuracy\n",
        "print(\"Accuracy on Training set: \",metrics.accuracy_score(y_train, y_rf))\n",
        "print(\"Accuracy on Testing set: \",metrics.accuracy_score(y_test, y_pred_rf))"
      ]
    },
    {
      "cell_type": "code",
      "execution_count": 48,
      "id": "6c96d86c",
      "metadata": {
        "execution": {
          "iopub.execute_input": "2023-09-23T20:52:55.093598Z",
          "iopub.status.busy": "2023-09-23T20:52:55.093196Z",
          "iopub.status.idle": "2023-09-23T20:52:55.110272Z",
          "shell.execute_reply": "2023-09-23T20:52:55.109046Z"
        },
        "id": "6c96d86c",
        "outputId": "a6959566-4a18-4ac2-e191-4b6cbdae0cde",
        "papermill": {
          "duration": 0.992441,
          "end_time": "2023-09-23T20:52:55.112855",
          "exception": false,
          "start_time": "2023-09-23T20:52:54.120414",
          "status": "completed"
        },
        "tags": []
      },
      "outputs": [
        {
          "name": "stdout",
          "output_type": "stream",
          "text": [
            "[[0. 1. 0.]]\n"
          ]
        }
      ],
      "source": [
        "print(rf.predict(X_train[1].reshape(1,-1)))"
      ]
    },
    {
      "cell_type": "markdown",
      "id": "BFIncbrGgLk8",
      "metadata": {
        "id": "BFIncbrGgLk8"
      },
      "source": [
        "# XGBoost Gradient Boosting"
      ]
    },
    {
      "cell_type": "code",
      "execution_count": 49,
      "id": "a3ef6e95",
      "metadata": {},
      "outputs": [],
      "source": [
        "# !pip install xgboost"
      ]
    },
    {
      "cell_type": "code",
      "execution_count": 50,
      "id": "Xt3FEcBagKr4",
      "metadata": {
        "id": "Xt3FEcBagKr4"
      },
      "outputs": [
        {
          "data": {
            "text/html": [
              "<style>#sk-container-id-3 {\n",
              "  /* Definition of color scheme common for light and dark mode */\n",
              "  --sklearn-color-text: black;\n",
              "  --sklearn-color-line: gray;\n",
              "  /* Definition of color scheme for unfitted estimators */\n",
              "  --sklearn-color-unfitted-level-0: #fff5e6;\n",
              "  --sklearn-color-unfitted-level-1: #f6e4d2;\n",
              "  --sklearn-color-unfitted-level-2: #ffe0b3;\n",
              "  --sklearn-color-unfitted-level-3: chocolate;\n",
              "  /* Definition of color scheme for fitted estimators */\n",
              "  --sklearn-color-fitted-level-0: #f0f8ff;\n",
              "  --sklearn-color-fitted-level-1: #d4ebff;\n",
              "  --sklearn-color-fitted-level-2: #b3dbfd;\n",
              "  --sklearn-color-fitted-level-3: cornflowerblue;\n",
              "\n",
              "  /* Specific color for light theme */\n",
              "  --sklearn-color-text-on-default-background: var(--sg-text-color, var(--theme-code-foreground, var(--jp-content-font-color1, black)));\n",
              "  --sklearn-color-background: var(--sg-background-color, var(--theme-background, var(--jp-layout-color0, white)));\n",
              "  --sklearn-color-border-box: var(--sg-text-color, var(--theme-code-foreground, var(--jp-content-font-color1, black)));\n",
              "  --sklearn-color-icon: #696969;\n",
              "\n",
              "  @media (prefers-color-scheme: dark) {\n",
              "    /* Redefinition of color scheme for dark theme */\n",
              "    --sklearn-color-text-on-default-background: var(--sg-text-color, var(--theme-code-foreground, var(--jp-content-font-color1, white)));\n",
              "    --sklearn-color-background: var(--sg-background-color, var(--theme-background, var(--jp-layout-color0, #111)));\n",
              "    --sklearn-color-border-box: var(--sg-text-color, var(--theme-code-foreground, var(--jp-content-font-color1, white)));\n",
              "    --sklearn-color-icon: #878787;\n",
              "  }\n",
              "}\n",
              "\n",
              "#sk-container-id-3 {\n",
              "  color: var(--sklearn-color-text);\n",
              "}\n",
              "\n",
              "#sk-container-id-3 pre {\n",
              "  padding: 0;\n",
              "}\n",
              "\n",
              "#sk-container-id-3 input.sk-hidden--visually {\n",
              "  border: 0;\n",
              "  clip: rect(1px 1px 1px 1px);\n",
              "  clip: rect(1px, 1px, 1px, 1px);\n",
              "  height: 1px;\n",
              "  margin: -1px;\n",
              "  overflow: hidden;\n",
              "  padding: 0;\n",
              "  position: absolute;\n",
              "  width: 1px;\n",
              "}\n",
              "\n",
              "#sk-container-id-3 div.sk-dashed-wrapped {\n",
              "  border: 1px dashed var(--sklearn-color-line);\n",
              "  margin: 0 0.4em 0.5em 0.4em;\n",
              "  box-sizing: border-box;\n",
              "  padding-bottom: 0.4em;\n",
              "  background-color: var(--sklearn-color-background);\n",
              "}\n",
              "\n",
              "#sk-container-id-3 div.sk-container {\n",
              "  /* jupyter's `normalize.less` sets `[hidden] { display: none; }`\n",
              "     but bootstrap.min.css set `[hidden] { display: none !important; }`\n",
              "     so we also need the `!important` here to be able to override the\n",
              "     default hidden behavior on the sphinx rendered scikit-learn.org.\n",
              "     See: https://github.com/scikit-learn/scikit-learn/issues/21755 */\n",
              "  display: inline-block !important;\n",
              "  position: relative;\n",
              "}\n",
              "\n",
              "#sk-container-id-3 div.sk-text-repr-fallback {\n",
              "  display: none;\n",
              "}\n",
              "\n",
              "div.sk-parallel-item,\n",
              "div.sk-serial,\n",
              "div.sk-item {\n",
              "  /* draw centered vertical line to link estimators */\n",
              "  background-image: linear-gradient(var(--sklearn-color-text-on-default-background), var(--sklearn-color-text-on-default-background));\n",
              "  background-size: 2px 100%;\n",
              "  background-repeat: no-repeat;\n",
              "  background-position: center center;\n",
              "}\n",
              "\n",
              "/* Parallel-specific style estimator block */\n",
              "\n",
              "#sk-container-id-3 div.sk-parallel-item::after {\n",
              "  content: \"\";\n",
              "  width: 100%;\n",
              "  border-bottom: 2px solid var(--sklearn-color-text-on-default-background);\n",
              "  flex-grow: 1;\n",
              "}\n",
              "\n",
              "#sk-container-id-3 div.sk-parallel {\n",
              "  display: flex;\n",
              "  align-items: stretch;\n",
              "  justify-content: center;\n",
              "  background-color: var(--sklearn-color-background);\n",
              "  position: relative;\n",
              "}\n",
              "\n",
              "#sk-container-id-3 div.sk-parallel-item {\n",
              "  display: flex;\n",
              "  flex-direction: column;\n",
              "}\n",
              "\n",
              "#sk-container-id-3 div.sk-parallel-item:first-child::after {\n",
              "  align-self: flex-end;\n",
              "  width: 50%;\n",
              "}\n",
              "\n",
              "#sk-container-id-3 div.sk-parallel-item:last-child::after {\n",
              "  align-self: flex-start;\n",
              "  width: 50%;\n",
              "}\n",
              "\n",
              "#sk-container-id-3 div.sk-parallel-item:only-child::after {\n",
              "  width: 0;\n",
              "}\n",
              "\n",
              "/* Serial-specific style estimator block */\n",
              "\n",
              "#sk-container-id-3 div.sk-serial {\n",
              "  display: flex;\n",
              "  flex-direction: column;\n",
              "  align-items: center;\n",
              "  background-color: var(--sklearn-color-background);\n",
              "  padding-right: 1em;\n",
              "  padding-left: 1em;\n",
              "}\n",
              "\n",
              "\n",
              "/* Toggleable style: style used for estimator/Pipeline/ColumnTransformer box that is\n",
              "clickable and can be expanded/collapsed.\n",
              "- Pipeline and ColumnTransformer use this feature and define the default style\n",
              "- Estimators will overwrite some part of the style using the `sk-estimator` class\n",
              "*/\n",
              "\n",
              "/* Pipeline and ColumnTransformer style (default) */\n",
              "\n",
              "#sk-container-id-3 div.sk-toggleable {\n",
              "  /* Default theme specific background. It is overwritten whether we have a\n",
              "  specific estimator or a Pipeline/ColumnTransformer */\n",
              "  background-color: var(--sklearn-color-background);\n",
              "}\n",
              "\n",
              "/* Toggleable label */\n",
              "#sk-container-id-3 label.sk-toggleable__label {\n",
              "  cursor: pointer;\n",
              "  display: block;\n",
              "  width: 100%;\n",
              "  margin-bottom: 0;\n",
              "  padding: 0.5em;\n",
              "  box-sizing: border-box;\n",
              "  text-align: center;\n",
              "}\n",
              "\n",
              "#sk-container-id-3 label.sk-toggleable__label-arrow:before {\n",
              "  /* Arrow on the left of the label */\n",
              "  content: \"▸\";\n",
              "  float: left;\n",
              "  margin-right: 0.25em;\n",
              "  color: var(--sklearn-color-icon);\n",
              "}\n",
              "\n",
              "#sk-container-id-3 label.sk-toggleable__label-arrow:hover:before {\n",
              "  color: var(--sklearn-color-text);\n",
              "}\n",
              "\n",
              "/* Toggleable content - dropdown */\n",
              "\n",
              "#sk-container-id-3 div.sk-toggleable__content {\n",
              "  max-height: 0;\n",
              "  max-width: 0;\n",
              "  overflow: hidden;\n",
              "  text-align: left;\n",
              "  /* unfitted */\n",
              "  background-color: var(--sklearn-color-unfitted-level-0);\n",
              "}\n",
              "\n",
              "#sk-container-id-3 div.sk-toggleable__content.fitted {\n",
              "  /* fitted */\n",
              "  background-color: var(--sklearn-color-fitted-level-0);\n",
              "}\n",
              "\n",
              "#sk-container-id-3 div.sk-toggleable__content pre {\n",
              "  margin: 0.2em;\n",
              "  border-radius: 0.25em;\n",
              "  color: var(--sklearn-color-text);\n",
              "  /* unfitted */\n",
              "  background-color: var(--sklearn-color-unfitted-level-0);\n",
              "}\n",
              "\n",
              "#sk-container-id-3 div.sk-toggleable__content.fitted pre {\n",
              "  /* unfitted */\n",
              "  background-color: var(--sklearn-color-fitted-level-0);\n",
              "}\n",
              "\n",
              "#sk-container-id-3 input.sk-toggleable__control:checked~div.sk-toggleable__content {\n",
              "  /* Expand drop-down */\n",
              "  max-height: 200px;\n",
              "  max-width: 100%;\n",
              "  overflow: auto;\n",
              "}\n",
              "\n",
              "#sk-container-id-3 input.sk-toggleable__control:checked~label.sk-toggleable__label-arrow:before {\n",
              "  content: \"▾\";\n",
              "}\n",
              "\n",
              "/* Pipeline/ColumnTransformer-specific style */\n",
              "\n",
              "#sk-container-id-3 div.sk-label input.sk-toggleable__control:checked~label.sk-toggleable__label {\n",
              "  color: var(--sklearn-color-text);\n",
              "  background-color: var(--sklearn-color-unfitted-level-2);\n",
              "}\n",
              "\n",
              "#sk-container-id-3 div.sk-label.fitted input.sk-toggleable__control:checked~label.sk-toggleable__label {\n",
              "  background-color: var(--sklearn-color-fitted-level-2);\n",
              "}\n",
              "\n",
              "/* Estimator-specific style */\n",
              "\n",
              "/* Colorize estimator box */\n",
              "#sk-container-id-3 div.sk-estimator input.sk-toggleable__control:checked~label.sk-toggleable__label {\n",
              "  /* unfitted */\n",
              "  background-color: var(--sklearn-color-unfitted-level-2);\n",
              "}\n",
              "\n",
              "#sk-container-id-3 div.sk-estimator.fitted input.sk-toggleable__control:checked~label.sk-toggleable__label {\n",
              "  /* fitted */\n",
              "  background-color: var(--sklearn-color-fitted-level-2);\n",
              "}\n",
              "\n",
              "#sk-container-id-3 div.sk-label label.sk-toggleable__label,\n",
              "#sk-container-id-3 div.sk-label label {\n",
              "  /* The background is the default theme color */\n",
              "  color: var(--sklearn-color-text-on-default-background);\n",
              "}\n",
              "\n",
              "/* On hover, darken the color of the background */\n",
              "#sk-container-id-3 div.sk-label:hover label.sk-toggleable__label {\n",
              "  color: var(--sklearn-color-text);\n",
              "  background-color: var(--sklearn-color-unfitted-level-2);\n",
              "}\n",
              "\n",
              "/* Label box, darken color on hover, fitted */\n",
              "#sk-container-id-3 div.sk-label.fitted:hover label.sk-toggleable__label.fitted {\n",
              "  color: var(--sklearn-color-text);\n",
              "  background-color: var(--sklearn-color-fitted-level-2);\n",
              "}\n",
              "\n",
              "/* Estimator label */\n",
              "\n",
              "#sk-container-id-3 div.sk-label label {\n",
              "  font-family: monospace;\n",
              "  font-weight: bold;\n",
              "  display: inline-block;\n",
              "  line-height: 1.2em;\n",
              "}\n",
              "\n",
              "#sk-container-id-3 div.sk-label-container {\n",
              "  text-align: center;\n",
              "}\n",
              "\n",
              "/* Estimator-specific */\n",
              "#sk-container-id-3 div.sk-estimator {\n",
              "  font-family: monospace;\n",
              "  border: 1px dotted var(--sklearn-color-border-box);\n",
              "  border-radius: 0.25em;\n",
              "  box-sizing: border-box;\n",
              "  margin-bottom: 0.5em;\n",
              "  /* unfitted */\n",
              "  background-color: var(--sklearn-color-unfitted-level-0);\n",
              "}\n",
              "\n",
              "#sk-container-id-3 div.sk-estimator.fitted {\n",
              "  /* fitted */\n",
              "  background-color: var(--sklearn-color-fitted-level-0);\n",
              "}\n",
              "\n",
              "/* on hover */\n",
              "#sk-container-id-3 div.sk-estimator:hover {\n",
              "  /* unfitted */\n",
              "  background-color: var(--sklearn-color-unfitted-level-2);\n",
              "}\n",
              "\n",
              "#sk-container-id-3 div.sk-estimator.fitted:hover {\n",
              "  /* fitted */\n",
              "  background-color: var(--sklearn-color-fitted-level-2);\n",
              "}\n",
              "\n",
              "/* Specification for estimator info (e.g. \"i\" and \"?\") */\n",
              "\n",
              "/* Common style for \"i\" and \"?\" */\n",
              "\n",
              ".sk-estimator-doc-link,\n",
              "a:link.sk-estimator-doc-link,\n",
              "a:visited.sk-estimator-doc-link {\n",
              "  float: right;\n",
              "  font-size: smaller;\n",
              "  line-height: 1em;\n",
              "  font-family: monospace;\n",
              "  background-color: var(--sklearn-color-background);\n",
              "  border-radius: 1em;\n",
              "  height: 1em;\n",
              "  width: 1em;\n",
              "  text-decoration: none !important;\n",
              "  margin-left: 1ex;\n",
              "  /* unfitted */\n",
              "  border: var(--sklearn-color-unfitted-level-1) 1pt solid;\n",
              "  color: var(--sklearn-color-unfitted-level-1);\n",
              "}\n",
              "\n",
              ".sk-estimator-doc-link.fitted,\n",
              "a:link.sk-estimator-doc-link.fitted,\n",
              "a:visited.sk-estimator-doc-link.fitted {\n",
              "  /* fitted */\n",
              "  border: var(--sklearn-color-fitted-level-1) 1pt solid;\n",
              "  color: var(--sklearn-color-fitted-level-1);\n",
              "}\n",
              "\n",
              "/* On hover */\n",
              "div.sk-estimator:hover .sk-estimator-doc-link:hover,\n",
              ".sk-estimator-doc-link:hover,\n",
              "div.sk-label-container:hover .sk-estimator-doc-link:hover,\n",
              ".sk-estimator-doc-link:hover {\n",
              "  /* unfitted */\n",
              "  background-color: var(--sklearn-color-unfitted-level-3);\n",
              "  color: var(--sklearn-color-background);\n",
              "  text-decoration: none;\n",
              "}\n",
              "\n",
              "div.sk-estimator.fitted:hover .sk-estimator-doc-link.fitted:hover,\n",
              ".sk-estimator-doc-link.fitted:hover,\n",
              "div.sk-label-container:hover .sk-estimator-doc-link.fitted:hover,\n",
              ".sk-estimator-doc-link.fitted:hover {\n",
              "  /* fitted */\n",
              "  background-color: var(--sklearn-color-fitted-level-3);\n",
              "  color: var(--sklearn-color-background);\n",
              "  text-decoration: none;\n",
              "}\n",
              "\n",
              "/* Span, style for the box shown on hovering the info icon */\n",
              ".sk-estimator-doc-link span {\n",
              "  display: none;\n",
              "  z-index: 9999;\n",
              "  position: relative;\n",
              "  font-weight: normal;\n",
              "  right: .2ex;\n",
              "  padding: .5ex;\n",
              "  margin: .5ex;\n",
              "  width: min-content;\n",
              "  min-width: 20ex;\n",
              "  max-width: 50ex;\n",
              "  color: var(--sklearn-color-text);\n",
              "  box-shadow: 2pt 2pt 4pt #999;\n",
              "  /* unfitted */\n",
              "  background: var(--sklearn-color-unfitted-level-0);\n",
              "  border: .5pt solid var(--sklearn-color-unfitted-level-3);\n",
              "}\n",
              "\n",
              ".sk-estimator-doc-link.fitted span {\n",
              "  /* fitted */\n",
              "  background: var(--sklearn-color-fitted-level-0);\n",
              "  border: var(--sklearn-color-fitted-level-3);\n",
              "}\n",
              "\n",
              ".sk-estimator-doc-link:hover span {\n",
              "  display: block;\n",
              "}\n",
              "\n",
              "/* \"?\"-specific style due to the `<a>` HTML tag */\n",
              "\n",
              "#sk-container-id-3 a.estimator_doc_link {\n",
              "  float: right;\n",
              "  font-size: 1rem;\n",
              "  line-height: 1em;\n",
              "  font-family: monospace;\n",
              "  background-color: var(--sklearn-color-background);\n",
              "  border-radius: 1rem;\n",
              "  height: 1rem;\n",
              "  width: 1rem;\n",
              "  text-decoration: none;\n",
              "  /* unfitted */\n",
              "  color: var(--sklearn-color-unfitted-level-1);\n",
              "  border: var(--sklearn-color-unfitted-level-1) 1pt solid;\n",
              "}\n",
              "\n",
              "#sk-container-id-3 a.estimator_doc_link.fitted {\n",
              "  /* fitted */\n",
              "  border: var(--sklearn-color-fitted-level-1) 1pt solid;\n",
              "  color: var(--sklearn-color-fitted-level-1);\n",
              "}\n",
              "\n",
              "/* On hover */\n",
              "#sk-container-id-3 a.estimator_doc_link:hover {\n",
              "  /* unfitted */\n",
              "  background-color: var(--sklearn-color-unfitted-level-3);\n",
              "  color: var(--sklearn-color-background);\n",
              "  text-decoration: none;\n",
              "}\n",
              "\n",
              "#sk-container-id-3 a.estimator_doc_link.fitted:hover {\n",
              "  /* fitted */\n",
              "  background-color: var(--sklearn-color-fitted-level-3);\n",
              "}\n",
              "</style><div id=\"sk-container-id-3\" class=\"sk-top-container\"><div class=\"sk-text-repr-fallback\"><pre>XGBClassifier(base_score=None, booster=None, callbacks=None,\n",
              "              colsample_bylevel=None, colsample_bynode=None,\n",
              "              colsample_bytree=None, device=None, early_stopping_rounds=None,\n",
              "              enable_categorical=False, eval_metric=None, feature_types=None,\n",
              "              gamma=None, grow_policy=None, importance_type=None,\n",
              "              interaction_constraints=None, learning_rate=None, max_bin=None,\n",
              "              max_cat_threshold=None, max_cat_to_onehot=None,\n",
              "              max_delta_step=None, max_depth=None, max_leaves=None,\n",
              "              min_child_weight=None, missing=nan, monotone_constraints=None,\n",
              "              multi_strategy=None, n_estimators=None, n_jobs=None,\n",
              "              num_parallel_tree=None, random_state=42, ...)</pre><b>In a Jupyter environment, please rerun this cell to show the HTML representation or trust the notebook. <br />On GitHub, the HTML representation is unable to render, please try loading this page with nbviewer.org.</b></div><div class=\"sk-container\" hidden><div class=\"sk-item\"><div class=\"sk-estimator fitted sk-toggleable\"><input class=\"sk-toggleable__control sk-hidden--visually\" id=\"sk-estimator-id-5\" type=\"checkbox\" checked><label for=\"sk-estimator-id-5\" class=\"sk-toggleable__label fitted sk-toggleable__label-arrow fitted\">&nbsp;XGBClassifier<span class=\"sk-estimator-doc-link fitted\">i<span>Fitted</span></span></label><div class=\"sk-toggleable__content fitted\"><pre>XGBClassifier(base_score=None, booster=None, callbacks=None,\n",
              "              colsample_bylevel=None, colsample_bynode=None,\n",
              "              colsample_bytree=None, device=None, early_stopping_rounds=None,\n",
              "              enable_categorical=False, eval_metric=None, feature_types=None,\n",
              "              gamma=None, grow_policy=None, importance_type=None,\n",
              "              interaction_constraints=None, learning_rate=None, max_bin=None,\n",
              "              max_cat_threshold=None, max_cat_to_onehot=None,\n",
              "              max_delta_step=None, max_depth=None, max_leaves=None,\n",
              "              min_child_weight=None, missing=nan, monotone_constraints=None,\n",
              "              multi_strategy=None, n_estimators=None, n_jobs=None,\n",
              "              num_parallel_tree=None, random_state=42, ...)</pre></div> </div></div></div></div>"
            ],
            "text/plain": [
              "XGBClassifier(base_score=None, booster=None, callbacks=None,\n",
              "              colsample_bylevel=None, colsample_bynode=None,\n",
              "              colsample_bytree=None, device=None, early_stopping_rounds=None,\n",
              "              enable_categorical=False, eval_metric=None, feature_types=None,\n",
              "              gamma=None, grow_policy=None, importance_type=None,\n",
              "              interaction_constraints=None, learning_rate=None, max_bin=None,\n",
              "              max_cat_threshold=None, max_cat_to_onehot=None,\n",
              "              max_delta_step=None, max_depth=None, max_leaves=None,\n",
              "              min_child_weight=None, missing=nan, monotone_constraints=None,\n",
              "              multi_strategy=None, n_estimators=None, n_jobs=None,\n",
              "              num_parallel_tree=None, random_state=42, ...)"
            ]
          },
          "execution_count": 50,
          "metadata": {},
          "output_type": "execute_result"
        }
      ],
      "source": [
        "import xgboost as xgb\n",
        "xgb_model = xgb.XGBClassifier(objective=\"binary:logistic\", random_state=42)\n",
        "xgb_model.fit(X_train, y_train)"
      ]
    },
    {
      "cell_type": "code",
      "execution_count": 51,
      "id": "9x7J7dVYgSwE",
      "metadata": {
        "id": "9x7J7dVYgSwE"
      },
      "outputs": [
        {
          "name": "stdout",
          "output_type": "stream",
          "text": [
            "Training Score: 0.9901507731421665\n",
            "Test Score: 0.9879861418635547\n"
          ]
        }
      ],
      "source": [
        "xgb_train, xgb_test = xgb_model.score(X_train , y_train), xgb_model.score(X_test , y_test)\n",
        "\n",
        "print(f\"Training Score: {xgb_train}\")\n",
        "print(f\"Test Score: {xgb_test}\")"
      ]
    },
    {
      "cell_type": "markdown",
      "id": "WGZ10YWagZgo",
      "metadata": {
        "id": "WGZ10YWagZgo"
      },
      "source": [
        "# SKLearn Gradient Boosting"
      ]
    },
    {
      "cell_type": "code",
      "execution_count": 52,
      "id": "97c22489",
      "metadata": {},
      "outputs": [
        {
          "name": "stdout",
          "output_type": "stream",
          "text": [
            "(767776, 3)\n",
            "[0. 1.]\n"
          ]
        }
      ],
      "source": [
        "y_train_skb = np.argmax(y_train, axis=1)  # Convert from one-hot to class labels\n",
        "y_test_skb = np.argmax(y_test, axis=1)    # Do the same for y_test\n",
        "\n",
        "\n",
        "print(y_train.shape)\n",
        "print(np.unique(y_train)) "
      ]
    },
    {
      "cell_type": "code",
      "execution_count": 58,
      "id": "4c209b0c",
      "metadata": {},
      "outputs": [
        {
          "data": {
            "text/plain": [
              "(767776,)"
            ]
          },
          "execution_count": 58,
          "metadata": {},
          "output_type": "execute_result"
        }
      ],
      "source": [
        "y_train_skb.shape"
      ]
    },
    {
      "cell_type": "code",
      "execution_count": 53,
      "id": "50fb3bef",
      "metadata": {},
      "outputs": [
        {
          "name": "stdout",
          "output_type": "stream",
          "text": [
            "Training Score: 0.9839536531488351\n",
            "Test Score: 0.9839224777931178\n"
          ]
        }
      ],
      "source": [
        "from sklearn.ensemble import GradientBoostingClassifier\n",
        "\n",
        "SKGB = GradientBoostingClassifier(random_state=42)\n",
        "SKGB.fit(X_train, y_train_skb)\n",
        "SKGB_train, SKGB_test = SKGB.score(X_train , y_train_skb), SKGB.score(X_test , y_test_skb)\n",
        "\n",
        "print(f\"Training Score: {SKGB_train}\")\n",
        "print(f\"Test Score: {SKGB_test}\")"
      ]
    },
    {
      "cell_type": "markdown",
      "id": "mD_33GkPglOE",
      "metadata": {
        "id": "mD_33GkPglOE"
      },
      "source": [
        "# Light Gradient Boosting"
      ]
    },
    {
      "cell_type": "code",
      "execution_count": 54,
      "id": "3fa6f63e",
      "metadata": {},
      "outputs": [],
      "source": [
        "# !pip install ligthgbm"
      ]
    },
    {
      "cell_type": "code",
      "execution_count": 59,
      "id": "_ZK2ai8_gljQ",
      "metadata": {
        "id": "_ZK2ai8_gljQ"
      },
      "outputs": [
        {
          "name": "stdout",
          "output_type": "stream",
          "text": [
            "[LightGBM] [Info] Auto-choosing row-wise multi-threading, the overhead of testing was 0.025965 seconds.\n",
            "You can set `force_row_wise=true` to remove the overhead.\n",
            "And if memory is not enough, you can set `force_col_wise=true`.\n",
            "[LightGBM] [Info] Total Bins 2553\n",
            "[LightGBM] [Info] Number of data points in the train set: 767776, number of used features: 11\n",
            "[LightGBM] [Info] Start training from score -0.966734\n",
            "[LightGBM] [Info] Start training from score -2.506589\n",
            "[LightGBM] [Info] Start training from score -0.619653\n",
            "Training Score: 0.9900400637685992\n",
            "Test Score: 0.989147933001641\n"
          ]
        }
      ],
      "source": [
        "from lightgbm import LGBMClassifier  # Correct import\n",
        "\n",
        "# Initialize the model\n",
        "lgb_model = LGBMClassifier(random_state=42)\n",
        "\n",
        "# Train the model\n",
        "lgb_model.fit(X_train, y_train_skb)\n",
        "\n",
        "# Evaluate the model\n",
        "lgb_train, lgb_test = lgb_model.score(X_train, y_train_skb), lgb_model.score(X_test, y_test_skb)\n",
        "\n",
        "# Print results\n",
        "print(f\"Training Score: {lgb_train}\")\n",
        "print(f\"Test Score: {lgb_test}\")"
      ]
    },
    {
      "cell_type": "markdown",
      "id": "4bffb0f0",
      "metadata": {
        "id": "4bffb0f0",
        "papermill": {
          "duration": 0.903457,
          "end_time": "2023-09-23T20:52:57.040066",
          "exception": false,
          "start_time": "2023-09-23T20:52:56.136609",
          "status": "completed"
        },
        "tags": []
      },
      "source": [
        "# Creating Classification Reports"
      ]
    },
    {
      "cell_type": "markdown",
      "id": "e57794a5",
      "metadata": {
        "id": "e57794a5",
        "papermill": {
          "duration": 0.950512,
          "end_time": "2023-09-23T20:52:58.909677",
          "exception": false,
          "start_time": "2023-09-23T20:52:57.959165",
          "status": "completed"
        },
        "tags": []
      },
      "source": [
        "## Decision Tree"
      ]
    },
    {
      "cell_type": "code",
      "execution_count": 60,
      "id": "0ff48dd5",
      "metadata": {
        "execution": {
          "iopub.execute_input": "2023-09-23T20:53:00.774035Z",
          "iopub.status.busy": "2023-09-23T20:53:00.773640Z",
          "iopub.status.idle": "2023-09-23T20:53:01.068357Z",
          "shell.execute_reply": "2023-09-23T20:53:01.066487Z"
        },
        "id": "0ff48dd5",
        "outputId": "55b75be2-c96a-4524-84d9-db1594de02c7",
        "papermill": {
          "duration": 1.277856,
          "end_time": "2023-09-23T20:53:01.070930",
          "exception": false,
          "start_time": "2023-09-23T20:52:59.793074",
          "status": "completed"
        },
        "tags": []
      },
      "outputs": [
        {
          "name": "stdout",
          "output_type": "stream",
          "text": [
            "              precision    recall  f1-score   support\n",
            "\n",
            "           0       0.94      0.96      0.95     73382\n",
            "           1       0.78      0.71      0.75     15507\n",
            "           2       1.00      1.00      1.00    103056\n",
            "\n",
            "   micro avg       0.96      0.96      0.96    191945\n",
            "   macro avg       0.91      0.89      0.90    191945\n",
            "weighted avg       0.96      0.96      0.96    191945\n",
            " samples avg       0.96      0.96      0.96    191945\n",
            "\n"
          ]
        }
      ],
      "source": [
        "from sklearn.metrics import classification_report\n",
        "\n",
        "# generate classification report\n",
        "target_names = ['0', '1','2']\n",
        "print(classification_report(y_test, y_pred_dt, target_names=target_names))"
      ]
    },
    {
      "cell_type": "markdown",
      "id": "cb4edb07",
      "metadata": {
        "id": "cb4edb07",
        "papermill": {
          "duration": 0.88654,
          "end_time": "2023-09-23T20:53:02.904230",
          "exception": false,
          "start_time": "2023-09-23T20:53:02.017690",
          "status": "completed"
        },
        "tags": []
      },
      "source": [
        "## Random Forest"
      ]
    },
    {
      "cell_type": "code",
      "execution_count": 61,
      "id": "082ae914",
      "metadata": {
        "execution": {
          "iopub.execute_input": "2023-09-23T20:53:04.829807Z",
          "iopub.status.busy": "2023-09-23T20:53:04.829334Z",
          "iopub.status.idle": "2023-09-23T20:53:05.123804Z",
          "shell.execute_reply": "2023-09-23T20:53:05.122508Z"
        },
        "id": "082ae914",
        "outputId": "b90cb685-8481-4280-f65e-2b8fcf26dd3f",
        "papermill": {
          "duration": 1.233829,
          "end_time": "2023-09-23T20:53:05.127214",
          "exception": false,
          "start_time": "2023-09-23T20:53:03.893385",
          "status": "completed"
        },
        "tags": []
      },
      "outputs": [
        {
          "name": "stdout",
          "output_type": "stream",
          "text": [
            "              precision    recall  f1-score   support\n",
            "\n",
            "           0       0.99      0.99      0.99     73382\n",
            "           1       0.96      0.94      0.95     15507\n",
            "           2       1.00      1.00      1.00    103056\n",
            "\n",
            "   micro avg       0.99      0.99      0.99    191945\n",
            "   macro avg       0.98      0.98      0.98    191945\n",
            "weighted avg       0.99      0.99      0.99    191945\n",
            " samples avg       0.99      0.99      0.99    191945\n",
            "\n"
          ]
        },
        {
          "name": "stderr",
          "output_type": "stream",
          "text": [
            "d:\\python\\anac\\Lib\\site-packages\\sklearn\\metrics\\_classification.py:1531: UndefinedMetricWarning: Precision is ill-defined and being set to 0.0 in samples with no predicted labels. Use `zero_division` parameter to control this behavior.\n",
            "  _warn_prf(average, modifier, f\"{metric.capitalize()} is\", len(result))\n"
          ]
        }
      ],
      "source": [
        "from sklearn.metrics import classification_report\n",
        "\n",
        "# generate classification report\n",
        "target_names = ['0', '1','2']\n",
        "print(classification_report(y_test, y_pred_rf, target_names=target_names))"
      ]
    },
    {
      "cell_type": "markdown",
      "id": "e5904466",
      "metadata": {
        "id": "e5904466",
        "papermill": {
          "duration": 0.946099,
          "end_time": "2023-09-23T20:53:07.021086",
          "exception": false,
          "start_time": "2023-09-23T20:53:06.074987",
          "status": "completed"
        },
        "tags": []
      },
      "source": [
        "# Saving the Models"
      ]
    },
    {
      "cell_type": "code",
      "execution_count": 62,
      "id": "f3826335",
      "metadata": {
        "execution": {
          "iopub.execute_input": "2023-09-23T20:53:08.879898Z",
          "iopub.status.busy": "2023-09-23T20:53:08.879511Z",
          "iopub.status.idle": "2023-09-23T20:53:08.963043Z",
          "shell.execute_reply": "2023-09-23T20:53:08.961885Z"
        },
        "id": "f3826335",
        "outputId": "e8f94eb0-0fca-4bd5-83b1-c104a6802a0d",
        "papermill": {
          "duration": 1.047073,
          "end_time": "2023-09-23T20:53:08.965885",
          "exception": false,
          "start_time": "2023-09-23T20:53:07.918812",
          "status": "completed"
        },
        "tags": []
      },
      "outputs": [
        {
          "data": {
            "text/plain": [
              "['random_forest.joblib']"
            ]
          },
          "execution_count": 62,
          "metadata": {},
          "output_type": "execute_result"
        }
      ],
      "source": [
        "from joblib import dump,load\n",
        "filename = 'random_forest.joblib'\n",
        "# linear_svm, knn, decision tree, random forest\n",
        "model = rf\n",
        "dump(model, filename)"
      ]
    },
    {
      "cell_type": "code",
      "execution_count": 63,
      "id": "67d8f079",
      "metadata": {
        "execution": {
          "iopub.execute_input": "2023-09-23T20:53:10.743529Z",
          "iopub.status.busy": "2023-09-23T20:53:10.743143Z",
          "iopub.status.idle": "2023-09-23T20:53:10.825966Z",
          "shell.execute_reply": "2023-09-23T20:53:10.824859Z"
        },
        "id": "67d8f079",
        "papermill": {
          "duration": 0.993225,
          "end_time": "2023-09-23T20:53:10.829015",
          "exception": false,
          "start_time": "2023-09-23T20:53:09.835790",
          "status": "completed"
        },
        "tags": []
      },
      "outputs": [],
      "source": [
        "ml_model=joblib.load('random_forest.joblib')"
      ]
    },
    {
      "cell_type": "code",
      "execution_count": 64,
      "id": "5bfa49df",
      "metadata": {
        "execution": {
          "iopub.execute_input": "2023-09-23T20:53:12.668889Z",
          "iopub.status.busy": "2023-09-23T20:53:12.668504Z",
          "iopub.status.idle": "2023-09-23T20:53:12.767659Z",
          "shell.execute_reply": "2023-09-23T20:53:12.765611Z"
        },
        "id": "5bfa49df",
        "outputId": "3318b96a-60bf-4e30-83b3-a50c09fd93e1",
        "papermill": {
          "duration": 0.986762,
          "end_time": "2023-09-23T20:53:12.770646",
          "exception": false,
          "start_time": "2023-09-23T20:53:11.783884",
          "status": "completed"
        },
        "tags": []
      },
      "outputs": [],
      "source": [
        "# for i in range(1,15):\n",
        "#     output=ml_model.predict(X_train[i].reshape(1,-1))\n",
        "#     if(output==0):\n",
        "#         print(\"Data received is an outlier\")\n",
        "#     elif(output==1):\n",
        "#         print(\"Data received is Malicious\")\n",
        "#     elif(output==2):\n",
        "#         print(\"Data received is Benign\")"
      ]
    },
    {
      "cell_type": "code",
      "execution_count": 65,
      "id": "faf9db68",
      "metadata": {},
      "outputs": [
        {
          "name": "stdout",
          "output_type": "stream",
          "text": [
            "Data received is an outlier\n",
            "Data received is an outlier\n",
            "Data received is an outlier\n",
            "Data received is Malicious\n",
            "Data received is Malicious\n",
            "Data received is an outlier\n",
            "Data received is Malicious\n",
            "Data received is an outlier\n",
            "Data received is an outlier\n",
            "Data received is an outlier\n",
            "Data received is an outlier\n",
            "Data received is Malicious\n",
            "Data received is Malicious\n",
            "Data received is an outlier\n"
          ]
        }
      ],
      "source": [
        "for i in range(1, 15):\n",
        "    output = ml_model.predict(X_train[i].reshape(1, -1)).flatten()[0]\n",
        "    \n",
        "    # Check if the output is an array or scalar\n",
        "    if isinstance(output, np.ndarray):\n",
        "        output = output[0]  # Extract scalar from array\n",
        "        \n",
        "    # Now output is guaranteed to be a scalar\n",
        "    if output == 0:\n",
        "        print(\"Data received is an outlier\")\n",
        "    elif output == 1:\n",
        "        print(\"Data received is Malicious\")\n",
        "    elif output == 2:\n",
        "        print(\"Data received is Benign\")\n"
      ]
    },
    {
      "cell_type": "markdown",
      "id": "803eba01",
      "metadata": {},
      "source": [
        "SVC"
      ]
    },
    {
      "cell_type": "code",
      "execution_count": null,
      "id": "e654fb14",
      "metadata": {},
      "outputs": [],
      "source": [
        "from sklearn.svm import SVC\n",
        "model = SVC(kernel=\"rbf\", random_state=42)\n",
        "model.fit(X_train, y_train_skb)\n",
        "print(\"Test Accuracy:\", model.score(X_test, y_test_skb))\n"
      ]
    },
    {
      "cell_type": "markdown",
      "id": "6fc08500",
      "metadata": {},
      "source": [
        "Isolation Forest"
      ]
    },
    {
      "cell_type": "code",
      "execution_count": null,
      "id": "0367a5a0",
      "metadata": {},
      "outputs": [],
      "source": [
        "from sklearn.ensemble import IsolationForest\n",
        "model = IsolationForest(contamination=0.05, random_state=42)\n",
        "model.fit(X_train)\n",
        "predictions = model.predict(X_test)  # -1 (outliers), 1 (normal)"
      ]
    },
    {
      "cell_type": "markdown",
      "id": "0bd7369a",
      "metadata": {},
      "source": [
        "Autoencoders (Deep Learning for Anomaly Detection)"
      ]
    },
    {
      "cell_type": "code",
      "execution_count": null,
      "id": "1a38522a",
      "metadata": {},
      "outputs": [],
      "source": [
        "from tensorflow.keras.models import Model\n",
        "from tensorflow.keras.layers import Input, Dense\n",
        "\n",
        "input_dim = X_train.shape[1]\n",
        "input_layer = Input(shape=(input_dim,))\n",
        "encoded = Dense(64, activation=\"relu\")(input_layer)\n",
        "encoded = Dense(32, activation=\"relu\")(encoded)\n",
        "decoded = Dense(64, activation=\"relu\")(encoded)\n",
        "decoded = Dense(input_dim, activation=\"sigmoid\")(decoded)\n",
        "\n",
        "autoencoder = Model(input_layer, decoded)\n",
        "autoencoder.compile(optimizer='adam', loss='mse')\n",
        "\n",
        "autoencoder.fit(X_train, X_train, epochs=10, batch_size=32, validation_data=(X_test, X_test))\n"
      ]
    }
  ],
  "metadata": {
    "colab": {
      "provenance": []
    },
    "kernelspec": {
      "display_name": "base",
      "language": "python",
      "name": "python3"
    },
    "language_info": {
      "codemirror_mode": {
        "name": "ipython",
        "version": 3
      },
      "file_extension": ".py",
      "mimetype": "text/x-python",
      "name": "python",
      "nbconvert_exporter": "python",
      "pygments_lexer": "ipython3",
      "version": "3.12.3"
    },
    "papermill": {
      "default_parameters": {},
      "duration": 1099.879211,
      "end_time": "2023-09-23T20:53:16.922959",
      "environment_variables": {},
      "exception": null,
      "input_path": "__notebook__.ipynb",
      "output_path": "__notebook__.ipynb",
      "parameters": {},
      "start_time": "2023-09-23T20:34:57.043748",
      "version": "2.4.0"
    }
  },
  "nbformat": 4,
  "nbformat_minor": 5
}
